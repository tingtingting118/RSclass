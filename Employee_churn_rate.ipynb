{
  "nbformat": 4,
  "nbformat_minor": 0,
  "metadata": {
    "colab": {
      "name": "Employee churn rate.ipynb",
      "provenance": [],
      "collapsed_sections": [],
      "authorship_tag": "ABX9TyNm3Jh26p4f8wCfHYl3PIqb",
      "include_colab_link": true
    },
    "kernelspec": {
      "name": "python3",
      "display_name": "Python 3"
    }
  },
  "cells": [
    {
      "cell_type": "markdown",
      "metadata": {
        "id": "view-in-github",
        "colab_type": "text"
      },
      "source": [
        "<a href=\"https://colab.research.google.com/github/tingtingting118/RSclass/blob/master/Employee_churn_rate.ipynb\" target=\"_parent\"><img src=\"https://colab.research.google.com/assets/colab-badge.svg\" alt=\"Open In Colab\"/></a>"
      ]
    },
    {
      "cell_type": "code",
      "metadata": {
        "id": "T-UQvDMdyVv3",
        "colab_type": "code",
        "outputId": "310e17ce-bca5-4e1c-df85-558bcdf4ac9c",
        "colab": {
          "resources": {
            "http://localhost:8080/nbextensions/google.colab/files.js": {
              "data": "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",
              "ok": true,
              "headers": [
                [
                  "content-type",
                  "application/javascript"
                ]
              ],
              "status": 200,
              "status_text": ""
            }
          },
          "base_uri": "https://localhost:8080/",
          "height": 74
        }
      },
      "source": [
        "from google.colab import files\n",
        "uploaded = files.upload()"
      ],
      "execution_count": 76,
      "outputs": [
        {
          "output_type": "display_data",
          "data": {
            "text/html": [
              "\n",
              "     <input type=\"file\" id=\"files-388e29e7-c12e-467f-983c-2c5c8270d45f\" name=\"files[]\" multiple disabled />\n",
              "     <output id=\"result-388e29e7-c12e-467f-983c-2c5c8270d45f\">\n",
              "      Upload widget is only available when the cell has been executed in the\n",
              "      current browser session. Please rerun this cell to enable.\n",
              "      </output>\n",
              "      <script src=\"/nbextensions/google.colab/files.js\"></script> "
            ],
            "text/plain": [
              "<IPython.core.display.HTML object>"
            ]
          },
          "metadata": {
            "tags": []
          }
        },
        {
          "output_type": "stream",
          "text": [
            "Saving train.csv to train (2).csv\n"
          ],
          "name": "stdout"
        }
      ]
    },
    {
      "cell_type": "code",
      "metadata": {
        "id": "fxGa8759yrcc",
        "colab_type": "code",
        "outputId": "839150f4-a1ee-4ad8-c377-c2a546c9cc98",
        "colab": {
          "resources": {
            "http://localhost:8080/nbextensions/google.colab/files.js": {
              "data": "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",
              "ok": true,
              "headers": [
                [
                  "content-type",
                  "application/javascript"
                ]
              ],
              "status": 200,
              "status_text": ""
            }
          },
          "base_uri": "https://localhost:8080/",
          "height": 74
        }
      },
      "source": [
        "from google.colab import files\n",
        "uploaded = files.upload()\n"
      ],
      "execution_count": 77,
      "outputs": [
        {
          "output_type": "display_data",
          "data": {
            "text/html": [
              "\n",
              "     <input type=\"file\" id=\"files-7de1769c-43e3-47f6-80fd-baab1844658f\" name=\"files[]\" multiple disabled />\n",
              "     <output id=\"result-7de1769c-43e3-47f6-80fd-baab1844658f\">\n",
              "      Upload widget is only available when the cell has been executed in the\n",
              "      current browser session. Please rerun this cell to enable.\n",
              "      </output>\n",
              "      <script src=\"/nbextensions/google.colab/files.js\"></script> "
            ],
            "text/plain": [
              "<IPython.core.display.HTML object>"
            ]
          },
          "metadata": {
            "tags": []
          }
        },
        {
          "output_type": "stream",
          "text": [
            "Saving test.csv to test (1).csv\n"
          ],
          "name": "stdout"
        }
      ]
    },
    {
      "cell_type": "code",
      "metadata": {
        "id": "tuO67MGWy3rF",
        "colab_type": "code",
        "colab": {}
      },
      "source": [
        "import pandas as pd\n",
        "import numpy as np\n",
        "import matplotlib.pyplot as plt\n",
        "from sklearn.model_selection import train_test_split\n",
        "from sklearn import preprocessing\n",
        "from sklearn.metrics import accuracy_score"
      ],
      "execution_count": 0,
      "outputs": []
    },
    {
      "cell_type": "code",
      "metadata": {
        "id": "axvidbLf60lG",
        "colab_type": "code",
        "outputId": "bf8c032d-23ae-42e3-bfc1-cd962ecd06f7",
        "colab": {
          "base_uri": "https://localhost:8080/",
          "height": 34
        }
      },
      "source": [
        "test.shape"
      ],
      "execution_count": 0,
      "outputs": [
        {
          "output_type": "execute_result",
          "data": {
            "text/plain": [
              "(294, 35)"
            ]
          },
          "metadata": {
            "tags": []
          },
          "execution_count": 6
        }
      ]
    },
    {
      "cell_type": "code",
      "metadata": {
        "id": "YJSSqZ1X73Tw",
        "colab_type": "code",
        "outputId": "3bf573a8-95e4-4885-e861-b554248c2ded",
        "colab": {
          "base_uri": "https://localhost:8080/",
          "height": 292
        }
      },
      "source": [
        "train.head()"
      ],
      "execution_count": 0,
      "outputs": [
        {
          "output_type": "execute_result",
          "data": {
            "text/html": [
              "<div>\n",
              "<style scoped>\n",
              "    .dataframe tbody tr th:only-of-type {\n",
              "        vertical-align: middle;\n",
              "    }\n",
              "\n",
              "    .dataframe tbody tr th {\n",
              "        vertical-align: top;\n",
              "    }\n",
              "\n",
              "    .dataframe thead th {\n",
              "        text-align: right;\n",
              "    }\n",
              "</style>\n",
              "<table border=\"1\" class=\"dataframe\">\n",
              "  <thead>\n",
              "    <tr style=\"text-align: right;\">\n",
              "      <th></th>\n",
              "      <th>user_id</th>\n",
              "      <th>Age</th>\n",
              "      <th>Attrition</th>\n",
              "      <th>BusinessTravel</th>\n",
              "      <th>DailyRate</th>\n",
              "      <th>Department</th>\n",
              "      <th>DistanceFromHome</th>\n",
              "      <th>Education</th>\n",
              "      <th>EducationField</th>\n",
              "      <th>EmployeeCount</th>\n",
              "      <th>EmployeeNumber</th>\n",
              "      <th>EnvironmentSatisfaction</th>\n",
              "      <th>Gender</th>\n",
              "      <th>HourlyRate</th>\n",
              "      <th>JobInvolvement</th>\n",
              "      <th>JobLevel</th>\n",
              "      <th>JobRole</th>\n",
              "      <th>JobSatisfaction</th>\n",
              "      <th>MaritalStatus</th>\n",
              "      <th>MonthlyIncome</th>\n",
              "      <th>MonthlyRate</th>\n",
              "      <th>NumCompaniesWorked</th>\n",
              "      <th>Over18</th>\n",
              "      <th>OverTime</th>\n",
              "      <th>PercentSalaryHike</th>\n",
              "      <th>PerformanceRating</th>\n",
              "      <th>RelationshipSatisfaction</th>\n",
              "      <th>StandardHours</th>\n",
              "      <th>StockOptionLevel</th>\n",
              "      <th>TotalWorkingYears</th>\n",
              "      <th>TrainingTimesLastYear</th>\n",
              "      <th>WorkLifeBalance</th>\n",
              "      <th>YearsAtCompany</th>\n",
              "      <th>YearsInCurrentRole</th>\n",
              "      <th>YearsSinceLastPromotion</th>\n",
              "      <th>YearsWithCurrManager</th>\n",
              "    </tr>\n",
              "  </thead>\n",
              "  <tbody>\n",
              "    <tr>\n",
              "      <th>0</th>\n",
              "      <td>1374</td>\n",
              "      <td>58</td>\n",
              "      <td>No</td>\n",
              "      <td>Travel_Rarely</td>\n",
              "      <td>605</td>\n",
              "      <td>Sales</td>\n",
              "      <td>21</td>\n",
              "      <td>3</td>\n",
              "      <td>Life Sciences</td>\n",
              "      <td>1</td>\n",
              "      <td>1938</td>\n",
              "      <td>4</td>\n",
              "      <td>Female</td>\n",
              "      <td>72</td>\n",
              "      <td>3</td>\n",
              "      <td>4</td>\n",
              "      <td>Manager</td>\n",
              "      <td>4</td>\n",
              "      <td>Married</td>\n",
              "      <td>17875</td>\n",
              "      <td>11761</td>\n",
              "      <td>4</td>\n",
              "      <td>Y</td>\n",
              "      <td>Yes</td>\n",
              "      <td>13</td>\n",
              "      <td>3</td>\n",
              "      <td>3</td>\n",
              "      <td>80</td>\n",
              "      <td>1</td>\n",
              "      <td>29</td>\n",
              "      <td>2</td>\n",
              "      <td>2</td>\n",
              "      <td>1</td>\n",
              "      <td>0</td>\n",
              "      <td>0</td>\n",
              "      <td>0</td>\n",
              "    </tr>\n",
              "    <tr>\n",
              "      <th>1</th>\n",
              "      <td>1092</td>\n",
              "      <td>45</td>\n",
              "      <td>No</td>\n",
              "      <td>Travel_Rarely</td>\n",
              "      <td>950</td>\n",
              "      <td>Research &amp; Development</td>\n",
              "      <td>28</td>\n",
              "      <td>3</td>\n",
              "      <td>Technical Degree</td>\n",
              "      <td>1</td>\n",
              "      <td>1546</td>\n",
              "      <td>4</td>\n",
              "      <td>Male</td>\n",
              "      <td>97</td>\n",
              "      <td>3</td>\n",
              "      <td>1</td>\n",
              "      <td>Research Scientist</td>\n",
              "      <td>4</td>\n",
              "      <td>Married</td>\n",
              "      <td>2132</td>\n",
              "      <td>4585</td>\n",
              "      <td>4</td>\n",
              "      <td>Y</td>\n",
              "      <td>No</td>\n",
              "      <td>20</td>\n",
              "      <td>4</td>\n",
              "      <td>4</td>\n",
              "      <td>80</td>\n",
              "      <td>1</td>\n",
              "      <td>8</td>\n",
              "      <td>3</td>\n",
              "      <td>3</td>\n",
              "      <td>5</td>\n",
              "      <td>4</td>\n",
              "      <td>0</td>\n",
              "      <td>3</td>\n",
              "    </tr>\n",
              "    <tr>\n",
              "      <th>2</th>\n",
              "      <td>768</td>\n",
              "      <td>40</td>\n",
              "      <td>No</td>\n",
              "      <td>Travel_Rarely</td>\n",
              "      <td>300</td>\n",
              "      <td>Sales</td>\n",
              "      <td>26</td>\n",
              "      <td>3</td>\n",
              "      <td>Marketing</td>\n",
              "      <td>1</td>\n",
              "      <td>1066</td>\n",
              "      <td>3</td>\n",
              "      <td>Male</td>\n",
              "      <td>74</td>\n",
              "      <td>3</td>\n",
              "      <td>2</td>\n",
              "      <td>Sales Executive</td>\n",
              "      <td>1</td>\n",
              "      <td>Married</td>\n",
              "      <td>8396</td>\n",
              "      <td>22217</td>\n",
              "      <td>1</td>\n",
              "      <td>Y</td>\n",
              "      <td>No</td>\n",
              "      <td>14</td>\n",
              "      <td>3</td>\n",
              "      <td>2</td>\n",
              "      <td>80</td>\n",
              "      <td>1</td>\n",
              "      <td>8</td>\n",
              "      <td>3</td>\n",
              "      <td>2</td>\n",
              "      <td>7</td>\n",
              "      <td>7</td>\n",
              "      <td>7</td>\n",
              "      <td>5</td>\n",
              "    </tr>\n",
              "    <tr>\n",
              "      <th>3</th>\n",
              "      <td>569</td>\n",
              "      <td>36</td>\n",
              "      <td>No</td>\n",
              "      <td>Non-Travel</td>\n",
              "      <td>1434</td>\n",
              "      <td>Sales</td>\n",
              "      <td>8</td>\n",
              "      <td>4</td>\n",
              "      <td>Life Sciences</td>\n",
              "      <td>1</td>\n",
              "      <td>789</td>\n",
              "      <td>1</td>\n",
              "      <td>Male</td>\n",
              "      <td>76</td>\n",
              "      <td>2</td>\n",
              "      <td>3</td>\n",
              "      <td>Sales Executive</td>\n",
              "      <td>1</td>\n",
              "      <td>Single</td>\n",
              "      <td>7587</td>\n",
              "      <td>14229</td>\n",
              "      <td>1</td>\n",
              "      <td>Y</td>\n",
              "      <td>No</td>\n",
              "      <td>15</td>\n",
              "      <td>3</td>\n",
              "      <td>2</td>\n",
              "      <td>80</td>\n",
              "      <td>0</td>\n",
              "      <td>10</td>\n",
              "      <td>1</td>\n",
              "      <td>3</td>\n",
              "      <td>10</td>\n",
              "      <td>7</td>\n",
              "      <td>0</td>\n",
              "      <td>9</td>\n",
              "    </tr>\n",
              "    <tr>\n",
              "      <th>4</th>\n",
              "      <td>911</td>\n",
              "      <td>25</td>\n",
              "      <td>Yes</td>\n",
              "      <td>Travel_Frequently</td>\n",
              "      <td>599</td>\n",
              "      <td>Sales</td>\n",
              "      <td>24</td>\n",
              "      <td>1</td>\n",
              "      <td>Life Sciences</td>\n",
              "      <td>1</td>\n",
              "      <td>1273</td>\n",
              "      <td>3</td>\n",
              "      <td>Male</td>\n",
              "      <td>73</td>\n",
              "      <td>1</td>\n",
              "      <td>1</td>\n",
              "      <td>Sales Representative</td>\n",
              "      <td>4</td>\n",
              "      <td>Single</td>\n",
              "      <td>1118</td>\n",
              "      <td>8040</td>\n",
              "      <td>1</td>\n",
              "      <td>Y</td>\n",
              "      <td>Yes</td>\n",
              "      <td>14</td>\n",
              "      <td>3</td>\n",
              "      <td>4</td>\n",
              "      <td>80</td>\n",
              "      <td>0</td>\n",
              "      <td>1</td>\n",
              "      <td>4</td>\n",
              "      <td>3</td>\n",
              "      <td>1</td>\n",
              "      <td>0</td>\n",
              "      <td>1</td>\n",
              "      <td>0</td>\n",
              "    </tr>\n",
              "  </tbody>\n",
              "</table>\n",
              "</div>"
            ],
            "text/plain": [
              "   user_id  Age  ... YearsSinceLastPromotion YearsWithCurrManager\n",
              "0     1374   58  ...                       0                    0\n",
              "1     1092   45  ...                       0                    3\n",
              "2      768   40  ...                       7                    5\n",
              "3      569   36  ...                       0                    9\n",
              "4      911   25  ...                       1                    0\n",
              "\n",
              "[5 rows x 36 columns]"
            ]
          },
          "metadata": {
            "tags": []
          },
          "execution_count": 9
        }
      ]
    },
    {
      "cell_type": "code",
      "metadata": {
        "id": "hLeTJfQQ73ph",
        "colab_type": "code",
        "outputId": "58bfb7e4-d1e6-4f14-a7b3-c7d61cb634fc",
        "colab": {
          "base_uri": "https://localhost:8080/",
          "height": 714
        }
      },
      "source": [
        "train.info()  # no missing values"
      ],
      "execution_count": 0,
      "outputs": [
        {
          "output_type": "stream",
          "text": [
            "<class 'pandas.core.frame.DataFrame'>\n",
            "RangeIndex: 1176 entries, 0 to 1175\n",
            "Data columns (total 36 columns):\n",
            "user_id                     1176 non-null int64\n",
            "Age                         1176 non-null int64\n",
            "Attrition                   1176 non-null object\n",
            "BusinessTravel              1176 non-null object\n",
            "DailyRate                   1176 non-null int64\n",
            "Department                  1176 non-null object\n",
            "DistanceFromHome            1176 non-null int64\n",
            "Education                   1176 non-null int64\n",
            "EducationField              1176 non-null object\n",
            "EmployeeCount               1176 non-null int64\n",
            "EmployeeNumber              1176 non-null int64\n",
            "EnvironmentSatisfaction     1176 non-null int64\n",
            "Gender                      1176 non-null object\n",
            "HourlyRate                  1176 non-null int64\n",
            "JobInvolvement              1176 non-null int64\n",
            "JobLevel                    1176 non-null int64\n",
            "JobRole                     1176 non-null object\n",
            "JobSatisfaction             1176 non-null int64\n",
            "MaritalStatus               1176 non-null object\n",
            "MonthlyIncome               1176 non-null int64\n",
            "MonthlyRate                 1176 non-null int64\n",
            "NumCompaniesWorked          1176 non-null int64\n",
            "Over18                      1176 non-null object\n",
            "OverTime                    1176 non-null object\n",
            "PercentSalaryHike           1176 non-null int64\n",
            "PerformanceRating           1176 non-null int64\n",
            "RelationshipSatisfaction    1176 non-null int64\n",
            "StandardHours               1176 non-null int64\n",
            "StockOptionLevel            1176 non-null int64\n",
            "TotalWorkingYears           1176 non-null int64\n",
            "TrainingTimesLastYear       1176 non-null int64\n",
            "WorkLifeBalance             1176 non-null int64\n",
            "YearsAtCompany              1176 non-null int64\n",
            "YearsInCurrentRole          1176 non-null int64\n",
            "YearsSinceLastPromotion     1176 non-null int64\n",
            "YearsWithCurrManager        1176 non-null int64\n",
            "dtypes: int64(27), object(9)\n",
            "memory usage: 330.9+ KB\n"
          ],
          "name": "stdout"
        }
      ]
    },
    {
      "cell_type": "code",
      "metadata": {
        "id": "U2L2m0y060cl",
        "colab_type": "code",
        "outputId": "d609d7ea-af81-4bad-c2e3-268181322805",
        "colab": {
          "base_uri": "https://localhost:8080/",
          "height": 34
        }
      },
      "source": [
        "#data exploration \n",
        "train = pd.read_csv(\"train.csv\")\n",
        "test = pd.read_csv(\"test.csv\")\n",
        "\n",
        "train.shape"
      ],
      "execution_count": 80,
      "outputs": [
        {
          "output_type": "execute_result",
          "data": {
            "text/plain": [
              "(1176, 36)"
            ]
          },
          "metadata": {
            "tags": []
          },
          "execution_count": 80
        }
      ]
    },
    {
      "cell_type": "code",
      "metadata": {
        "id": "J8yXGOZw-1Xb",
        "colab_type": "code",
        "outputId": "9300de4d-8bba-4895-ed00-9431e9535752",
        "colab": {
          "base_uri": "https://localhost:8080/",
          "height": 427
        }
      },
      "source": [
        "train.describe(include = 'all')\n",
        "#https://app.dataquest.io/m/294/guided-project%3A-exploring-ebay-car-sales-data - refer this project for data cleaning and exploration"
      ],
      "execution_count": 81,
      "outputs": [
        {
          "output_type": "execute_result",
          "data": {
            "text/html": [
              "<div>\n",
              "<style scoped>\n",
              "    .dataframe tbody tr th:only-of-type {\n",
              "        vertical-align: middle;\n",
              "    }\n",
              "\n",
              "    .dataframe tbody tr th {\n",
              "        vertical-align: top;\n",
              "    }\n",
              "\n",
              "    .dataframe thead th {\n",
              "        text-align: right;\n",
              "    }\n",
              "</style>\n",
              "<table border=\"1\" class=\"dataframe\">\n",
              "  <thead>\n",
              "    <tr style=\"text-align: right;\">\n",
              "      <th></th>\n",
              "      <th>user_id</th>\n",
              "      <th>Age</th>\n",
              "      <th>Attrition</th>\n",
              "      <th>BusinessTravel</th>\n",
              "      <th>DailyRate</th>\n",
              "      <th>Department</th>\n",
              "      <th>DistanceFromHome</th>\n",
              "      <th>Education</th>\n",
              "      <th>EducationField</th>\n",
              "      <th>EmployeeCount</th>\n",
              "      <th>EmployeeNumber</th>\n",
              "      <th>EnvironmentSatisfaction</th>\n",
              "      <th>Gender</th>\n",
              "      <th>HourlyRate</th>\n",
              "      <th>JobInvolvement</th>\n",
              "      <th>JobLevel</th>\n",
              "      <th>JobRole</th>\n",
              "      <th>JobSatisfaction</th>\n",
              "      <th>MaritalStatus</th>\n",
              "      <th>MonthlyIncome</th>\n",
              "      <th>MonthlyRate</th>\n",
              "      <th>NumCompaniesWorked</th>\n",
              "      <th>Over18</th>\n",
              "      <th>OverTime</th>\n",
              "      <th>PercentSalaryHike</th>\n",
              "      <th>PerformanceRating</th>\n",
              "      <th>RelationshipSatisfaction</th>\n",
              "      <th>StandardHours</th>\n",
              "      <th>StockOptionLevel</th>\n",
              "      <th>TotalWorkingYears</th>\n",
              "      <th>TrainingTimesLastYear</th>\n",
              "      <th>WorkLifeBalance</th>\n",
              "      <th>YearsAtCompany</th>\n",
              "      <th>YearsInCurrentRole</th>\n",
              "      <th>YearsSinceLastPromotion</th>\n",
              "      <th>YearsWithCurrManager</th>\n",
              "    </tr>\n",
              "  </thead>\n",
              "  <tbody>\n",
              "    <tr>\n",
              "      <th>count</th>\n",
              "      <td>1176.000000</td>\n",
              "      <td>1176.000000</td>\n",
              "      <td>1176</td>\n",
              "      <td>1176</td>\n",
              "      <td>1176.000000</td>\n",
              "      <td>1176</td>\n",
              "      <td>1176.000000</td>\n",
              "      <td>1176.000000</td>\n",
              "      <td>1176</td>\n",
              "      <td>1176.0</td>\n",
              "      <td>1176.000000</td>\n",
              "      <td>1176.000000</td>\n",
              "      <td>1176</td>\n",
              "      <td>1176.000000</td>\n",
              "      <td>1176.000000</td>\n",
              "      <td>1176.000000</td>\n",
              "      <td>1176</td>\n",
              "      <td>1176.000000</td>\n",
              "      <td>1176</td>\n",
              "      <td>1176.000000</td>\n",
              "      <td>1176.000000</td>\n",
              "      <td>1176.000000</td>\n",
              "      <td>1176</td>\n",
              "      <td>1176</td>\n",
              "      <td>1176.000000</td>\n",
              "      <td>1176.000000</td>\n",
              "      <td>1176.000000</td>\n",
              "      <td>1176.0</td>\n",
              "      <td>1176.000000</td>\n",
              "      <td>1176.000000</td>\n",
              "      <td>1176.000000</td>\n",
              "      <td>1176.000000</td>\n",
              "      <td>1176.000000</td>\n",
              "      <td>1176.00000</td>\n",
              "      <td>1176.000000</td>\n",
              "      <td>1176.000000</td>\n",
              "    </tr>\n",
              "    <tr>\n",
              "      <th>unique</th>\n",
              "      <td>NaN</td>\n",
              "      <td>NaN</td>\n",
              "      <td>2</td>\n",
              "      <td>3</td>\n",
              "      <td>NaN</td>\n",
              "      <td>3</td>\n",
              "      <td>NaN</td>\n",
              "      <td>NaN</td>\n",
              "      <td>6</td>\n",
              "      <td>NaN</td>\n",
              "      <td>NaN</td>\n",
              "      <td>NaN</td>\n",
              "      <td>2</td>\n",
              "      <td>NaN</td>\n",
              "      <td>NaN</td>\n",
              "      <td>NaN</td>\n",
              "      <td>9</td>\n",
              "      <td>NaN</td>\n",
              "      <td>3</td>\n",
              "      <td>NaN</td>\n",
              "      <td>NaN</td>\n",
              "      <td>NaN</td>\n",
              "      <td>1</td>\n",
              "      <td>2</td>\n",
              "      <td>NaN</td>\n",
              "      <td>NaN</td>\n",
              "      <td>NaN</td>\n",
              "      <td>NaN</td>\n",
              "      <td>NaN</td>\n",
              "      <td>NaN</td>\n",
              "      <td>NaN</td>\n",
              "      <td>NaN</td>\n",
              "      <td>NaN</td>\n",
              "      <td>NaN</td>\n",
              "      <td>NaN</td>\n",
              "      <td>NaN</td>\n",
              "    </tr>\n",
              "    <tr>\n",
              "      <th>top</th>\n",
              "      <td>NaN</td>\n",
              "      <td>NaN</td>\n",
              "      <td>No</td>\n",
              "      <td>Travel_Rarely</td>\n",
              "      <td>NaN</td>\n",
              "      <td>Research &amp; Development</td>\n",
              "      <td>NaN</td>\n",
              "      <td>NaN</td>\n",
              "      <td>Life Sciences</td>\n",
              "      <td>NaN</td>\n",
              "      <td>NaN</td>\n",
              "      <td>NaN</td>\n",
              "      <td>Male</td>\n",
              "      <td>NaN</td>\n",
              "      <td>NaN</td>\n",
              "      <td>NaN</td>\n",
              "      <td>Sales Executive</td>\n",
              "      <td>NaN</td>\n",
              "      <td>Married</td>\n",
              "      <td>NaN</td>\n",
              "      <td>NaN</td>\n",
              "      <td>NaN</td>\n",
              "      <td>Y</td>\n",
              "      <td>No</td>\n",
              "      <td>NaN</td>\n",
              "      <td>NaN</td>\n",
              "      <td>NaN</td>\n",
              "      <td>NaN</td>\n",
              "      <td>NaN</td>\n",
              "      <td>NaN</td>\n",
              "      <td>NaN</td>\n",
              "      <td>NaN</td>\n",
              "      <td>NaN</td>\n",
              "      <td>NaN</td>\n",
              "      <td>NaN</td>\n",
              "      <td>NaN</td>\n",
              "    </tr>\n",
              "    <tr>\n",
              "      <th>freq</th>\n",
              "      <td>NaN</td>\n",
              "      <td>NaN</td>\n",
              "      <td>988</td>\n",
              "      <td>830</td>\n",
              "      <td>NaN</td>\n",
              "      <td>772</td>\n",
              "      <td>NaN</td>\n",
              "      <td>NaN</td>\n",
              "      <td>490</td>\n",
              "      <td>NaN</td>\n",
              "      <td>NaN</td>\n",
              "      <td>NaN</td>\n",
              "      <td>713</td>\n",
              "      <td>NaN</td>\n",
              "      <td>NaN</td>\n",
              "      <td>NaN</td>\n",
              "      <td>258</td>\n",
              "      <td>NaN</td>\n",
              "      <td>524</td>\n",
              "      <td>NaN</td>\n",
              "      <td>NaN</td>\n",
              "      <td>NaN</td>\n",
              "      <td>1176</td>\n",
              "      <td>853</td>\n",
              "      <td>NaN</td>\n",
              "      <td>NaN</td>\n",
              "      <td>NaN</td>\n",
              "      <td>NaN</td>\n",
              "      <td>NaN</td>\n",
              "      <td>NaN</td>\n",
              "      <td>NaN</td>\n",
              "      <td>NaN</td>\n",
              "      <td>NaN</td>\n",
              "      <td>NaN</td>\n",
              "      <td>NaN</td>\n",
              "      <td>NaN</td>\n",
              "    </tr>\n",
              "    <tr>\n",
              "      <th>mean</th>\n",
              "      <td>736.124150</td>\n",
              "      <td>36.805272</td>\n",
              "      <td>NaN</td>\n",
              "      <td>NaN</td>\n",
              "      <td>802.033163</td>\n",
              "      <td>NaN</td>\n",
              "      <td>9.159864</td>\n",
              "      <td>2.918367</td>\n",
              "      <td>NaN</td>\n",
              "      <td>1.0</td>\n",
              "      <td>1026.960034</td>\n",
              "      <td>2.750850</td>\n",
              "      <td>NaN</td>\n",
              "      <td>65.130102</td>\n",
              "      <td>2.724490</td>\n",
              "      <td>2.055272</td>\n",
              "      <td>NaN</td>\n",
              "      <td>2.732993</td>\n",
              "      <td>NaN</td>\n",
              "      <td>6458.690476</td>\n",
              "      <td>14247.159864</td>\n",
              "      <td>2.703231</td>\n",
              "      <td>NaN</td>\n",
              "      <td>NaN</td>\n",
              "      <td>15.152211</td>\n",
              "      <td>3.150510</td>\n",
              "      <td>2.714286</td>\n",
              "      <td>80.0</td>\n",
              "      <td>0.805272</td>\n",
              "      <td>11.161565</td>\n",
              "      <td>2.767007</td>\n",
              "      <td>2.764456</td>\n",
              "      <td>6.982143</td>\n",
              "      <td>4.19898</td>\n",
              "      <td>2.160714</td>\n",
              "      <td>4.098639</td>\n",
              "    </tr>\n",
              "    <tr>\n",
              "      <th>std</th>\n",
              "      <td>419.336964</td>\n",
              "      <td>9.065549</td>\n",
              "      <td>NaN</td>\n",
              "      <td>NaN</td>\n",
              "      <td>405.946729</td>\n",
              "      <td>NaN</td>\n",
              "      <td>8.137224</td>\n",
              "      <td>1.009809</td>\n",
              "      <td>NaN</td>\n",
              "      <td>0.0</td>\n",
              "      <td>594.763609</td>\n",
              "      <td>1.096221</td>\n",
              "      <td>NaN</td>\n",
              "      <td>20.294326</td>\n",
              "      <td>0.715027</td>\n",
              "      <td>1.106040</td>\n",
              "      <td>NaN</td>\n",
              "      <td>1.102477</td>\n",
              "      <td>NaN</td>\n",
              "      <td>4724.845883</td>\n",
              "      <td>7133.767499</td>\n",
              "      <td>2.521301</td>\n",
              "      <td>NaN</td>\n",
              "      <td>NaN</td>\n",
              "      <td>3.652543</td>\n",
              "      <td>0.357723</td>\n",
              "      <td>1.080583</td>\n",
              "      <td>0.0</td>\n",
              "      <td>0.865611</td>\n",
              "      <td>7.747576</td>\n",
              "      <td>1.250756</td>\n",
              "      <td>0.713251</td>\n",
              "      <td>6.094338</td>\n",
              "      <td>3.63124</td>\n",
              "      <td>3.208052</td>\n",
              "      <td>3.564190</td>\n",
              "    </tr>\n",
              "    <tr>\n",
              "      <th>min</th>\n",
              "      <td>0.000000</td>\n",
              "      <td>18.000000</td>\n",
              "      <td>NaN</td>\n",
              "      <td>NaN</td>\n",
              "      <td>104.000000</td>\n",
              "      <td>NaN</td>\n",
              "      <td>1.000000</td>\n",
              "      <td>1.000000</td>\n",
              "      <td>NaN</td>\n",
              "      <td>1.0</td>\n",
              "      <td>1.000000</td>\n",
              "      <td>1.000000</td>\n",
              "      <td>NaN</td>\n",
              "      <td>30.000000</td>\n",
              "      <td>1.000000</td>\n",
              "      <td>1.000000</td>\n",
              "      <td>NaN</td>\n",
              "      <td>1.000000</td>\n",
              "      <td>NaN</td>\n",
              "      <td>1009.000000</td>\n",
              "      <td>2094.000000</td>\n",
              "      <td>0.000000</td>\n",
              "      <td>NaN</td>\n",
              "      <td>NaN</td>\n",
              "      <td>11.000000</td>\n",
              "      <td>3.000000</td>\n",
              "      <td>1.000000</td>\n",
              "      <td>80.0</td>\n",
              "      <td>0.000000</td>\n",
              "      <td>0.000000</td>\n",
              "      <td>0.000000</td>\n",
              "      <td>1.000000</td>\n",
              "      <td>0.000000</td>\n",
              "      <td>0.00000</td>\n",
              "      <td>0.000000</td>\n",
              "      <td>0.000000</td>\n",
              "    </tr>\n",
              "    <tr>\n",
              "      <th>25%</th>\n",
              "      <td>374.750000</td>\n",
              "      <td>30.000000</td>\n",
              "      <td>NaN</td>\n",
              "      <td>NaN</td>\n",
              "      <td>463.500000</td>\n",
              "      <td>NaN</td>\n",
              "      <td>2.000000</td>\n",
              "      <td>2.000000</td>\n",
              "      <td>NaN</td>\n",
              "      <td>1.0</td>\n",
              "      <td>498.750000</td>\n",
              "      <td>2.000000</td>\n",
              "      <td>NaN</td>\n",
              "      <td>48.000000</td>\n",
              "      <td>2.000000</td>\n",
              "      <td>1.000000</td>\n",
              "      <td>NaN</td>\n",
              "      <td>2.000000</td>\n",
              "      <td>NaN</td>\n",
              "      <td>2858.750000</td>\n",
              "      <td>7912.750000</td>\n",
              "      <td>1.000000</td>\n",
              "      <td>NaN</td>\n",
              "      <td>NaN</td>\n",
              "      <td>12.000000</td>\n",
              "      <td>3.000000</td>\n",
              "      <td>2.000000</td>\n",
              "      <td>80.0</td>\n",
              "      <td>0.000000</td>\n",
              "      <td>6.000000</td>\n",
              "      <td>2.000000</td>\n",
              "      <td>2.000000</td>\n",
              "      <td>3.000000</td>\n",
              "      <td>2.00000</td>\n",
              "      <td>0.000000</td>\n",
              "      <td>2.000000</td>\n",
              "    </tr>\n",
              "    <tr>\n",
              "      <th>50%</th>\n",
              "      <td>742.500000</td>\n",
              "      <td>36.000000</td>\n",
              "      <td>NaN</td>\n",
              "      <td>NaN</td>\n",
              "      <td>805.500000</td>\n",
              "      <td>NaN</td>\n",
              "      <td>7.000000</td>\n",
              "      <td>3.000000</td>\n",
              "      <td>NaN</td>\n",
              "      <td>1.0</td>\n",
              "      <td>1031.000000</td>\n",
              "      <td>3.000000</td>\n",
              "      <td>NaN</td>\n",
              "      <td>65.000000</td>\n",
              "      <td>3.000000</td>\n",
              "      <td>2.000000</td>\n",
              "      <td>NaN</td>\n",
              "      <td>3.000000</td>\n",
              "      <td>NaN</td>\n",
              "      <td>4850.500000</td>\n",
              "      <td>14225.500000</td>\n",
              "      <td>2.000000</td>\n",
              "      <td>NaN</td>\n",
              "      <td>NaN</td>\n",
              "      <td>14.000000</td>\n",
              "      <td>3.000000</td>\n",
              "      <td>3.000000</td>\n",
              "      <td>80.0</td>\n",
              "      <td>1.000000</td>\n",
              "      <td>10.000000</td>\n",
              "      <td>3.000000</td>\n",
              "      <td>3.000000</td>\n",
              "      <td>5.000000</td>\n",
              "      <td>3.00000</td>\n",
              "      <td>1.000000</td>\n",
              "      <td>3.000000</td>\n",
              "    </tr>\n",
              "    <tr>\n",
              "      <th>75%</th>\n",
              "      <td>1101.250000</td>\n",
              "      <td>42.250000</td>\n",
              "      <td>NaN</td>\n",
              "      <td>NaN</td>\n",
              "      <td>1162.000000</td>\n",
              "      <td>NaN</td>\n",
              "      <td>14.000000</td>\n",
              "      <td>4.000000</td>\n",
              "      <td>NaN</td>\n",
              "      <td>1.0</td>\n",
              "      <td>1555.250000</td>\n",
              "      <td>4.000000</td>\n",
              "      <td>NaN</td>\n",
              "      <td>82.250000</td>\n",
              "      <td>3.000000</td>\n",
              "      <td>3.000000</td>\n",
              "      <td>NaN</td>\n",
              "      <td>4.000000</td>\n",
              "      <td>NaN</td>\n",
              "      <td>8380.250000</td>\n",
              "      <td>20372.500000</td>\n",
              "      <td>4.000000</td>\n",
              "      <td>NaN</td>\n",
              "      <td>NaN</td>\n",
              "      <td>18.000000</td>\n",
              "      <td>3.000000</td>\n",
              "      <td>4.000000</td>\n",
              "      <td>80.0</td>\n",
              "      <td>1.000000</td>\n",
              "      <td>15.000000</td>\n",
              "      <td>3.000000</td>\n",
              "      <td>3.000000</td>\n",
              "      <td>9.000000</td>\n",
              "      <td>7.00000</td>\n",
              "      <td>2.250000</td>\n",
              "      <td>7.000000</td>\n",
              "    </tr>\n",
              "    <tr>\n",
              "      <th>max</th>\n",
              "      <td>1469.000000</td>\n",
              "      <td>60.000000</td>\n",
              "      <td>NaN</td>\n",
              "      <td>NaN</td>\n",
              "      <td>1499.000000</td>\n",
              "      <td>NaN</td>\n",
              "      <td>29.000000</td>\n",
              "      <td>5.000000</td>\n",
              "      <td>NaN</td>\n",
              "      <td>1.0</td>\n",
              "      <td>2068.000000</td>\n",
              "      <td>4.000000</td>\n",
              "      <td>NaN</td>\n",
              "      <td>100.000000</td>\n",
              "      <td>4.000000</td>\n",
              "      <td>5.000000</td>\n",
              "      <td>NaN</td>\n",
              "      <td>4.000000</td>\n",
              "      <td>NaN</td>\n",
              "      <td>19999.000000</td>\n",
              "      <td>26999.000000</td>\n",
              "      <td>9.000000</td>\n",
              "      <td>NaN</td>\n",
              "      <td>NaN</td>\n",
              "      <td>25.000000</td>\n",
              "      <td>4.000000</td>\n",
              "      <td>4.000000</td>\n",
              "      <td>80.0</td>\n",
              "      <td>3.000000</td>\n",
              "      <td>40.000000</td>\n",
              "      <td>6.000000</td>\n",
              "      <td>4.000000</td>\n",
              "      <td>40.000000</td>\n",
              "      <td>18.00000</td>\n",
              "      <td>15.000000</td>\n",
              "      <td>17.000000</td>\n",
              "    </tr>\n",
              "  </tbody>\n",
              "</table>\n",
              "</div>"
            ],
            "text/plain": [
              "            user_id          Age  ... YearsSinceLastPromotion YearsWithCurrManager\n",
              "count   1176.000000  1176.000000  ...             1176.000000          1176.000000\n",
              "unique          NaN          NaN  ...                     NaN                  NaN\n",
              "top             NaN          NaN  ...                     NaN                  NaN\n",
              "freq            NaN          NaN  ...                     NaN                  NaN\n",
              "mean     736.124150    36.805272  ...                2.160714             4.098639\n",
              "std      419.336964     9.065549  ...                3.208052             3.564190\n",
              "min        0.000000    18.000000  ...                0.000000             0.000000\n",
              "25%      374.750000    30.000000  ...                0.000000             2.000000\n",
              "50%      742.500000    36.000000  ...                1.000000             3.000000\n",
              "75%     1101.250000    42.250000  ...                2.250000             7.000000\n",
              "max     1469.000000    60.000000  ...               15.000000            17.000000\n",
              "\n",
              "[11 rows x 36 columns]"
            ]
          },
          "metadata": {
            "tags": []
          },
          "execution_count": 81
        }
      ]
    },
    {
      "cell_type": "code",
      "metadata": {
        "id": "9R4wdGHX8ezN",
        "colab_type": "code",
        "outputId": "ba41866c-e1cc-46d4-fe45-b88401f16395",
        "colab": {
          "base_uri": "https://localhost:8080/",
          "height": 153
        }
      },
      "source": [
        "#Data Cleaning - Combine train and test data for convinence.\n",
        "full_data = train.append(test,ignore_index = True)\n",
        "#drop columns that would not help for prediction \n",
        "#user_id,EmployeeNumber, EmployeeCount,Over18,StandardHours\n",
        "full_data = full_data.drop(['EmployeeCount','EmployeeNumber','Over18','StandardHours'],axis = 1)"
      ],
      "execution_count": 82,
      "outputs": [
        {
          "output_type": "stream",
          "text": [
            "/usr/local/lib/python3.6/dist-packages/pandas/core/frame.py:7138: FutureWarning: Sorting because non-concatenation axis is not aligned. A future version\n",
            "of pandas will change to not sort by default.\n",
            "\n",
            "To accept the future behavior, pass 'sort=False'.\n",
            "\n",
            "To retain the current behavior and silence the warning, pass 'sort=True'.\n",
            "\n",
            "  sort=sort,\n"
          ],
          "name": "stderr"
        }
      ]
    },
    {
      "cell_type": "code",
      "metadata": {
        "id": "lHKD4jgE8LYr",
        "colab_type": "code",
        "outputId": "a4c92354-da64-4463-c25f-e098a52202d9",
        "colab": {
          "base_uri": "https://localhost:8080/",
          "height": 1000
        }
      },
      "source": [
        "#Explore the data by rate in terms of Whether the employee left the job or not\n",
        "for col in cols:\n",
        "  if full_data[col].dtype =='int64':\n",
        "    print(col + \": \")\n",
        "    print((full_data[full_data['Attrition'] =='Yes'][col].value_counts() / full_data[col].value_counts()).sort_index(ascending = True))\n",
        "    print(\"----------------\")\n",
        "\n"
      ],
      "execution_count": 83,
      "outputs": [
        {
          "output_type": "stream",
          "text": [
            "Age: \n",
            "18    0.500000\n",
            "19    0.555556\n",
            "20    0.545455\n",
            "21    0.461538\n",
            "22    0.125000\n",
            "23    0.214286\n",
            "24    0.192308\n",
            "25    0.153846\n",
            "26    0.282051\n",
            "27    0.062500\n",
            "28    0.208333\n",
            "29    0.235294\n",
            "30    0.150000\n",
            "31    0.202899\n",
            "32    0.131148\n",
            "33    0.189655\n",
            "34    0.090909\n",
            "35    0.102564\n",
            "36    0.057971\n",
            "37    0.100000\n",
            "38    0.017241\n",
            "39    0.095238\n",
            "40    0.070175\n",
            "41    0.075000\n",
            "42    0.021739\n",
            "43    0.062500\n",
            "44    0.151515\n",
            "45    0.024390\n",
            "46    0.090909\n",
            "47    0.125000\n",
            "48    0.105263\n",
            "49    0.083333\n",
            "50    0.100000\n",
            "51    0.105263\n",
            "52    0.111111\n",
            "53    0.052632\n",
            "54         NaN\n",
            "55    0.090909\n",
            "56    0.142857\n",
            "57         NaN\n",
            "58    0.285714\n",
            "59         NaN\n",
            "60         NaN\n",
            "Name: Age, dtype: float64\n",
            "----------------\n",
            "DailyRate: \n",
            "102     NaN\n",
            "103     NaN\n",
            "104     1.0\n",
            "105     NaN\n",
            "106     NaN\n",
            "       ... \n",
            "1492    NaN\n",
            "1495    NaN\n",
            "1496    NaN\n",
            "1498    NaN\n",
            "1499    NaN\n",
            "Name: DailyRate, Length: 886, dtype: float64\n",
            "----------------\n",
            "DistanceFromHome: \n",
            "1     0.100962\n",
            "2     0.104265\n",
            "3     0.142857\n",
            "4     0.125000\n",
            "5     0.123077\n",
            "6     0.101695\n",
            "7     0.107143\n",
            "8     0.087500\n",
            "9     0.141176\n",
            "10    0.104651\n",
            "11    0.137931\n",
            "12    0.150000\n",
            "13    0.210526\n",
            "14    0.142857\n",
            "15    0.192308\n",
            "16    0.218750\n",
            "17    0.250000\n",
            "18    0.115385\n",
            "19    0.136364\n",
            "20    0.120000\n",
            "21    0.166667\n",
            "22    0.263158\n",
            "23    0.111111\n",
            "24    0.285714\n",
            "25    0.200000\n",
            "26    0.120000\n",
            "27    0.250000\n",
            "28    0.086957\n",
            "29    0.074074\n",
            "Name: DistanceFromHome, dtype: float64\n",
            "----------------\n",
            "Education: \n",
            "1    0.141176\n",
            "2    0.117021\n",
            "3    0.146853\n",
            "4    0.108040\n",
            "5    0.083333\n",
            "Name: Education, dtype: float64\n",
            "----------------\n",
            "EnvironmentSatisfaction: \n",
            "1    0.204225\n",
            "2    0.101045\n",
            "3    0.105960\n",
            "4    0.118834\n",
            "Name: EnvironmentSatisfaction, dtype: float64\n",
            "----------------\n",
            "HourlyRate: \n",
            "30          NaN\n",
            "31     0.133333\n",
            "32     0.166667\n",
            "33     0.105263\n",
            "34     0.333333\n",
            "         ...   \n",
            "96     0.074074\n",
            "97     0.142857\n",
            "98     0.071429\n",
            "99     0.100000\n",
            "100    0.263158\n",
            "Name: HourlyRate, Length: 71, dtype: float64\n",
            "----------------\n",
            "JobInvolvement: \n",
            "1    0.277108\n",
            "2    0.141333\n",
            "3    0.115207\n",
            "4    0.083333\n",
            "Name: JobInvolvement, dtype: float64\n",
            "----------------\n",
            "JobLevel: \n",
            "1    0.215470\n",
            "2    0.067416\n",
            "3    0.128440\n",
            "4    0.037736\n",
            "5    0.043478\n",
            "Name: JobLevel, dtype: float64\n",
            "----------------\n",
            "JobSatisfaction: \n",
            "1    0.176471\n",
            "2    0.135714\n",
            "3    0.126697\n",
            "4    0.093682\n",
            "Name: JobSatisfaction, dtype: float64\n",
            "----------------\n",
            "MonthlyIncome: \n",
            "1009     1.0\n",
            "1051     NaN\n",
            "1052     NaN\n",
            "1081     1.0\n",
            "1091     1.0\n",
            "        ... \n",
            "19859    1.0\n",
            "19926    NaN\n",
            "19943    NaN\n",
            "19973    NaN\n",
            "19999    NaN\n",
            "Name: MonthlyIncome, Length: 1349, dtype: float64\n",
            "----------------\n",
            "MonthlyRate: \n",
            "2094     NaN\n",
            "2097     NaN\n",
            "2104     NaN\n",
            "2112     NaN\n",
            "2122     NaN\n",
            "        ... \n",
            "26956    NaN\n",
            "26959    NaN\n",
            "26968    NaN\n",
            "26997    NaN\n",
            "26999    1.0\n",
            "Name: MonthlyRate, Length: 1427, dtype: float64\n",
            "----------------\n",
            "NumCompaniesWorked: \n",
            "0    0.091371\n",
            "1    0.157390\n",
            "2    0.075342\n",
            "3    0.062893\n",
            "4    0.100719\n",
            "5    0.206349\n",
            "6    0.185714\n",
            "7    0.148649\n",
            "8    0.102041\n",
            "9    0.211538\n",
            "Name: NumCompaniesWorked, dtype: float64\n",
            "----------------\n",
            "PercentSalaryHike: \n",
            "11    0.180952\n",
            "12    0.141414\n",
            "13    0.133971\n",
            "14    0.089552\n",
            "15    0.128713\n",
            "16    0.102564\n",
            "17    0.146341\n",
            "18    0.101124\n",
            "19    0.078947\n",
            "20    0.109091\n",
            "21    0.104167\n",
            "22    0.160714\n",
            "23    0.142857\n",
            "24    0.190476\n",
            "25         NaN\n",
            "Name: PercentSalaryHike, dtype: float64\n",
            "----------------\n",
            "PerformanceRating: \n",
            "3    0.128617\n",
            "4    0.123894\n",
            "Name: PerformanceRating, dtype: float64\n",
            "----------------\n",
            "RelationshipSatisfaction: \n",
            "1    0.159420\n",
            "2    0.108911\n",
            "3    0.130719\n",
            "4    0.118056\n",
            "Name: RelationshipSatisfaction, dtype: float64\n",
            "----------------\n",
            "StockOptionLevel: \n",
            "0    0.188590\n",
            "1    0.078859\n",
            "2    0.063291\n",
            "3    0.141176\n",
            "Name: StockOptionLevel, dtype: float64\n",
            "----------------\n",
            "TotalWorkingYears: \n",
            "0     0.454545\n",
            "1     0.419753\n",
            "2     0.258065\n",
            "3     0.166667\n",
            "4     0.142857\n",
            "5     0.159091\n",
            "6     0.120000\n",
            "7     0.185185\n",
            "8     0.135922\n",
            "9     0.083333\n",
            "10    0.103960\n",
            "11    0.138889\n",
            "12    0.041667\n",
            "13    0.083333\n",
            "14    0.096774\n",
            "15    0.075000\n",
            "16         NaN\n",
            "17    0.060606\n",
            "18    0.111111\n",
            "19    0.136364\n",
            "20    0.066667\n",
            "21    0.029412\n",
            "22    0.047619\n",
            "23    0.045455\n",
            "24    0.166667\n",
            "25    0.071429\n",
            "26         NaN\n",
            "27         NaN\n",
            "28    0.071429\n",
            "29         NaN\n",
            "30         NaN\n",
            "31         NaN\n",
            "32         NaN\n",
            "33    0.142857\n",
            "34    0.200000\n",
            "35         NaN\n",
            "36         NaN\n",
            "37         NaN\n",
            "38         NaN\n",
            "40    1.000000\n",
            "Name: TotalWorkingYears, dtype: float64\n",
            "----------------\n",
            "TrainingTimesLastYear: \n",
            "0    0.203704\n",
            "1    0.084507\n",
            "2    0.149909\n",
            "3    0.109980\n",
            "4    0.162602\n",
            "5    0.100840\n",
            "6    0.046154\n",
            "Name: TrainingTimesLastYear, dtype: float64\n",
            "----------------\n",
            "WorkLifeBalance: \n",
            "1    0.275000\n",
            "2    0.125000\n",
            "3    0.115342\n",
            "4    0.130719\n",
            "Name: WorkLifeBalance, dtype: float64\n",
            "----------------\n",
            "YearsAtCompany: \n",
            "0     0.318182\n",
            "1     0.286550\n",
            "2     0.165354\n",
            "3     0.125000\n",
            "4     0.127273\n",
            "5     0.081633\n",
            "6     0.078947\n",
            "7     0.088889\n",
            "8     0.100000\n",
            "9     0.073171\n",
            "10    0.133333\n",
            "11    0.062500\n",
            "12         NaN\n",
            "13    0.041667\n",
            "14    0.111111\n",
            "15         NaN\n",
            "16         NaN\n",
            "17    0.111111\n",
            "18    0.076923\n",
            "19    0.090909\n",
            "20    0.037037\n",
            "21         NaN\n",
            "22         NaN\n",
            "23    0.500000\n",
            "24         NaN\n",
            "25         NaN\n",
            "26         NaN\n",
            "27         NaN\n",
            "29         NaN\n",
            "30         NaN\n",
            "31    0.333333\n",
            "32    0.333333\n",
            "33    0.200000\n",
            "34         NaN\n",
            "36         NaN\n",
            "37         NaN\n",
            "40    1.000000\n",
            "Name: YearsAtCompany, dtype: float64\n",
            "----------------\n",
            "YearsInCurrentRole: \n",
            "0     0.254098\n",
            "1     0.122807\n",
            "2     0.147849\n",
            "3     0.081481\n",
            "4     0.105769\n",
            "5     0.027778\n",
            "6     0.054054\n",
            "7     0.112613\n",
            "8     0.067416\n",
            "9     0.044776\n",
            "10    0.034483\n",
            "11         NaN\n",
            "12    0.100000\n",
            "13    0.071429\n",
            "14    0.090909\n",
            "15    0.125000\n",
            "16         NaN\n",
            "17         NaN\n",
            "18         NaN\n",
            "Name: YearsInCurrentRole, dtype: float64\n",
            "----------------\n",
            "YearsSinceLastPromotion: \n",
            "0     0.158348\n",
            "1     0.109244\n",
            "2     0.125786\n",
            "3     0.096154\n",
            "4     0.049180\n",
            "5     0.022222\n",
            "6     0.156250\n",
            "7     0.171053\n",
            "8          NaN\n",
            "9     0.235294\n",
            "10         NaN\n",
            "11    0.083333\n",
            "12         NaN\n",
            "13    0.100000\n",
            "14    0.111111\n",
            "15    0.153846\n",
            "Name: YearsSinceLastPromotion, dtype: float64\n",
            "----------------\n",
            "YearsWithCurrManager: \n",
            "0     0.273764\n",
            "1     0.105263\n",
            "2     0.110465\n",
            "3     0.077465\n",
            "4     0.102041\n",
            "5     0.129032\n",
            "6     0.137931\n",
            "7     0.115741\n",
            "8     0.074766\n",
            "9     0.078125\n",
            "10    0.074074\n",
            "11         NaN\n",
            "12         NaN\n",
            "13         NaN\n",
            "14    0.200000\n",
            "15         NaN\n",
            "16         NaN\n",
            "17         NaN\n",
            "Name: YearsWithCurrManager, dtype: float64\n",
            "----------------\n",
            "user_id: \n",
            "0       1.0\n",
            "1       NaN\n",
            "2       NaN\n",
            "3       NaN\n",
            "4       NaN\n",
            "       ... \n",
            "1465    NaN\n",
            "1466    NaN\n",
            "1467    NaN\n",
            "1468    NaN\n",
            "1469    NaN\n",
            "Name: user_id, Length: 1470, dtype: float64\n",
            "----------------\n"
          ],
          "name": "stdout"
        }
      ]
    },
    {
      "cell_type": "code",
      "metadata": {
        "id": "nI2kEDrONaN2",
        "colab_type": "code",
        "outputId": "a9e5c13e-94e4-4459-ba53-e27ed383d921",
        "colab": {
          "base_uri": "https://localhost:8080/",
          "height": 850
        }
      },
      "source": [
        "#quickly explore the data \n",
        "for col in cols:\n",
        "  if full_data[col].dtype =='object':\n",
        "    print(col + \": \")\n",
        "    print((full_data[full_data['Attrition'] =='Yes'][col].value_counts() / full_data[col].value_counts()).sort_index(ascending = True))\n",
        "    print(\"----------------\")"
      ],
      "execution_count": 84,
      "outputs": [
        {
          "output_type": "stream",
          "text": [
            "BusinessTravel: \n",
            "Non-Travel           0.060000\n",
            "Travel_Frequently    0.202166\n",
            "Travel_Rarely        0.117929\n",
            "Name: BusinessTravel, dtype: float64\n",
            "----------------\n",
            "Department: \n",
            "Human Resources           0.174603\n",
            "Research & Development    0.109261\n",
            "Sales                     0.161435\n",
            "Name: Department, dtype: float64\n",
            "----------------\n",
            "EducationField: \n",
            "Human Resources     0.259259\n",
            "Life Sciences       0.112211\n",
            "Marketing           0.182390\n",
            "Medical             0.101293\n",
            "Other               0.121951\n",
            "Technical Degree    0.204545\n",
            "Name: EducationField, dtype: float64\n",
            "----------------\n",
            "Gender: \n",
            "Female    0.112245\n",
            "Male      0.138322\n",
            "Name: Gender, dtype: float64\n",
            "----------------\n",
            "JobRole: \n",
            "Healthcare Representative    0.061069\n",
            "Human Resources              0.211538\n",
            "Laboratory Technician        0.196911\n",
            "Manager                      0.039216\n",
            "Manufacturing Director       0.041379\n",
            "Research Director            0.012500\n",
            "Research Scientist           0.123288\n",
            "Sales Executive              0.131902\n",
            "Sales Representative         0.337349\n",
            "Name: JobRole, dtype: float64\n",
            "----------------\n",
            "MaritalStatus: \n",
            "Divorced    0.085627\n",
            "Married     0.095097\n",
            "Single      0.204255\n",
            "Name: MaritalStatus, dtype: float64\n",
            "----------------\n",
            "OverTime: \n",
            "No     0.088235\n",
            "Yes    0.228365\n",
            "Name: OverTime, dtype: float64\n",
            "----------------\n"
          ],
          "name": "stdout"
        }
      ]
    },
    {
      "cell_type": "code",
      "metadata": {
        "id": "2wTEDlhNNaZX",
        "colab_type": "code",
        "colab": {}
      },
      "source": [
        "###EducationField, Travel have a bigger impact on the churn rate, also, people who are singles are more likely to leave\n",
        "#ppl have to work overtime is likely to leave"
      ],
      "execution_count": 0,
      "outputs": []
    },
    {
      "cell_type": "code",
      "metadata": {
        "id": "UDwF_59MOXCf",
        "colab_type": "code",
        "outputId": "e098f1b3-c815-4d0f-e2eb-eb6319b33ddd",
        "colab": {
          "base_uri": "https://localhost:8080/",
          "height": 296
        }
      },
      "source": [
        "import seaborn as sns\n",
        "sns.barplot(x = 'Age', y = 'Attrition',data = full_data,palette = 'Set2')"
      ],
      "execution_count": 86,
      "outputs": [
        {
          "output_type": "execute_result",
          "data": {
            "text/plain": [
              "<matplotlib.axes._subplots.AxesSubplot at 0x7efd83336978>"
            ]
          },
          "metadata": {
            "tags": []
          },
          "execution_count": 86
        },
        {
          "output_type": "display_data",
          "data": {
            "image/png": "[encoded data removed]",
            "text/plain": [
              "<Figure size 432x288 with 1 Axes>"
            ]
          },
          "metadata": {
            "tags": []
          }
        }
      ]
    },
    {
      "cell_type": "code",
      "metadata": {
        "id": "7QJdXDpEoZfn",
        "colab_type": "code",
        "outputId": "6c5d8f56-2b64-4e0d-f0b0-4fa5f5a47738",
        "colab": {
          "base_uri": "https://localhost:8080/",
          "height": 102
        }
      },
      "source": [
        "full_data['Attrition_1'] = 0\n",
        "full_data['Attrition_1'][full_data['Attrition'] == 'Yes']  = 1"
      ],
      "execution_count": 87,
      "outputs": [
        {
          "output_type": "stream",
          "text": [
            "/usr/local/lib/python3.6/dist-packages/ipykernel_launcher.py:2: SettingWithCopyWarning: \n",
            "A value is trying to be set on a copy of a slice from a DataFrame\n",
            "\n",
            "See the caveats in the documentation: http://pandas.pydata.org/pandas-docs/stable/user_guide/indexing.html#returning-a-view-versus-a-copy\n",
            "  \n"
          ],
          "name": "stderr"
        }
      ]
    },
    {
      "cell_type": "code",
      "metadata": {
        "id": "LtLBWBBoNkEY",
        "colab_type": "code",
        "outputId": "1847ff76-b419-4fd6-f2e9-41a13a83a281",
        "colab": {
          "base_uri": "https://localhost:8080/",
          "height": 170
        }
      },
      "source": [
        "full_data.Attrition_1.describe()"
      ],
      "execution_count": 88,
      "outputs": [
        {
          "output_type": "execute_result",
          "data": {
            "text/plain": [
              "count    1470.000000\n",
              "mean        0.127891\n",
              "std         0.334082\n",
              "min         0.000000\n",
              "25%         0.000000\n",
              "50%         0.000000\n",
              "75%         0.000000\n",
              "max         1.000000\n",
              "Name: Attrition_1, dtype: float64"
            ]
          },
          "metadata": {
            "tags": []
          },
          "execution_count": 88
        }
      ]
    },
    {
      "cell_type": "code",
      "metadata": {
        "id": "ATQ5QSSWoSga",
        "colab_type": "code",
        "outputId": "5ea5f831-7431-45cb-e996-c0b6d98d2167",
        "colab": {
          "base_uri": "https://localhost:8080/",
          "height": 351
        }
      },
      "source": [
        "plt.figure(figsize = (14,5))\n",
        "sns.barplot(x = 'Age',y='Attrition_1',data = full_data,palette = 'Set2')"
      ],
      "execution_count": 89,
      "outputs": [
        {
          "output_type": "execute_result",
          "data": {
            "text/plain": [
              "<matplotlib.axes._subplots.AxesSubplot at 0x7efd8335c4e0>"
            ]
          },
          "metadata": {
            "tags": []
          },
          "execution_count": 89
        },
        {
          "output_type": "display_data",
          "data": {
            "image/png": "[encoded data removed]",
            "text/plain": [
              "<Figure size 1008x360 with 1 Axes>"
            ]
          },
          "metadata": {
            "tags": []
          }
        }
      ]
    },
    {
      "cell_type": "code",
      "metadata": {
        "id": "UONXK5sEOduI",
        "colab_type": "code",
        "outputId": "8e080f35-57a0-4d9e-b889-97d6f6069dd0",
        "colab": {
          "base_uri": "https://localhost:8080/",
          "height": 221
        }
      },
      "source": [
        "## It's clear that from age 22 to 54, people are less likely to leave the work\n",
        "#reset Age to Ordinary value \n",
        "#full_data['AgeSet'] = 2\n",
        "#full_data[(full_data['Age']<= 24) | (full_data['Age'] == 58)]['Ageset'] = 1\n",
        "#full_data[(full_data['Age'] == 54 )| (full_data['Age'] == 57) | (full_data['Age'] >=59)]['AgeSet'] = 0 "
      ],
      "execution_count": 0,
      "outputs": [
        {
          "output_type": "stream",
          "text": [
            "/usr/local/lib/python3.6/dist-packages/ipykernel_launcher.py:2: SettingWithCopyWarning: \n",
            "A value is trying to be set on a copy of a slice from a DataFrame.\n",
            "Try using .loc[row_indexer,col_indexer] = value instead\n",
            "\n",
            "See the caveats in the documentation: http://pandas.pydata.org/pandas-docs/stable/user_guide/indexing.html#returning-a-view-versus-a-copy\n",
            "  \n",
            "/usr/local/lib/python3.6/dist-packages/ipykernel_launcher.py:3: SettingWithCopyWarning: \n",
            "A value is trying to be set on a copy of a slice from a DataFrame.\n",
            "Try using .loc[row_indexer,col_indexer] = value instead\n",
            "\n",
            "See the caveats in the documentation: http://pandas.pydata.org/pandas-docs/stable/user_guide/indexing.html#returning-a-view-versus-a-copy\n",
            "  This is separate from the ipykernel package so we can avoid doing imports until\n"
          ],
          "name": "stderr"
        }
      ]
    },
    {
      "cell_type": "code",
      "metadata": {
        "id": "vhbnhbHSRkS-",
        "colab_type": "code",
        "outputId": "db79d6f7-2a9d-4d37-e451-4ec0d3852047",
        "colab": {
          "base_uri": "https://localhost:8080/",
          "height": 242
        }
      },
      "source": [
        "#https://zhuanlan.zhihu.com/p/27816821\n",
        "#monthly Income\n",
        "facet = sns.FacetGrid(full_data,hue = 'Attrition_1' ,aspect=3)  #a way to visualized multi-dimensional data ( 3 dimensions here--> row, col, hue)\n",
        "facet.map(sns.kdeplot,'MonthlyIncome',shade = True)\n",
        "\n",
        "#map is a function to pass ur chart -->sns.kdeplot here \n",
        "facet.set(xlim=(0,full_data['MonthlyIncome'].max()))\n",
        "facet.add_legend()\n",
        "#we learned that people have monthly income within 7.5k is more likely to leave "
      ],
      "execution_count": 90,
      "outputs": [
        {
          "output_type": "execute_result",
          "data": {
            "text/plain": [
              "<seaborn.axisgrid.FacetGrid at 0x7efd83336cc0>"
            ]
          },
          "metadata": {
            "tags": []
          },
          "execution_count": 90
        },
        {
          "output_type": "display_data",
          "data": {
            "image/png": "[encoded data removed]",
            "text/plain": [
              "<Figure size 708.125x216 with 1 Axes>"
            ]
          },
          "metadata": {
            "tags": []
          }
        }
      ]
    },
    {
      "cell_type": "code",
      "metadata": {
        "id": "3AbTp3bogDMn",
        "colab_type": "code",
        "outputId": "6af7ad34-2ab4-4538-f72a-45322194997d",
        "colab": {
          "base_uri": "https://localhost:8080/",
          "height": 242
        }
      },
      "source": [
        "#DistanceFromHome\n",
        "facet2 = sns.FacetGrid(full_data,hue = 'Attrition_1' ,aspect=3)  #a way to visualized multi-dimensional data ( 3 dimensions here--> row, col, hue)\n",
        "facet2.map(sns.kdeplot,'DistanceFromHome',shade = True)\n",
        "\n",
        "#map is a function to pass ur chart -->sns.kdeplot here \n",
        "facet2.set(xlim=(0,full_data['DistanceFromHome'].max()))\n",
        "facet2.add_legend()"
      ],
      "execution_count": 91,
      "outputs": [
        {
          "output_type": "execute_result",
          "data": {
            "text/plain": [
              "<seaborn.axisgrid.FacetGrid at 0x7efd831515f8>"
            ]
          },
          "metadata": {
            "tags": []
          },
          "execution_count": 91
        },
        {
          "output_type": "display_data",
          "data": {
            "image/png": "[encoded data removed]",
            "text/plain": [
              "<Figure size 708.125x216 with 1 Axes>"
            ]
          },
          "metadata": {
            "tags": []
          }
        }
      ]
    },
    {
      "cell_type": "code",
      "metadata": {
        "id": "zIxtkCxZhrG0",
        "colab_type": "code",
        "outputId": "6ef10c84-6cd6-4664-ccc7-f7cf2e5863db",
        "colab": {
          "base_uri": "https://localhost:8080/",
          "height": 242
        }
      },
      "source": [
        "#TotalWorkingYears\n",
        "facet3 = sns.FacetGrid(full_data,hue = 'Attrition_1' ,aspect=3)  #a way to visualized multi-dimensional data ( 3 dimensions here--> row, col, hue)\n",
        "facet3.map(sns.kdeplot,'TotalWorkingYears',shade = True)\n",
        "\n",
        "#map is a function to pass ur chart -->sns.kdeplot here \n",
        "facet3.set(xlim=(0,full_data['TotalWorkingYears'].max()))\n",
        "facet3.add_legend()"
      ],
      "execution_count": 92,
      "outputs": [
        {
          "output_type": "execute_result",
          "data": {
            "text/plain": [
              "<seaborn.axisgrid.FacetGrid at 0x7efd830876d8>"
            ]
          },
          "metadata": {
            "tags": []
          },
          "execution_count": 92
        },
        {
          "output_type": "display_data",
          "data": {
            "image/png": "[encoded data removed]",
            "text/plain": [
              "<Figure size 708.125x216 with 1 Axes>"
            ]
          },
          "metadata": {
            "tags": []
          }
        }
      ]
    },
    {
      "cell_type": "code",
      "metadata": {
        "id": "4tl7InD6iXW4",
        "colab_type": "code",
        "outputId": "56047441-a170-4475-a383-5cd866d1547a",
        "colab": {
          "base_uri": "https://localhost:8080/",
          "height": 300
        }
      },
      "source": [
        "#PercentSalaryHike\n",
        "sns.barplot(x = 'PercentSalaryHike',y = 'Attrition_1',data = full_data,palette = 'Set2')"
      ],
      "execution_count": 93,
      "outputs": [
        {
          "output_type": "execute_result",
          "data": {
            "text/plain": [
              "<matplotlib.axes._subplots.AxesSubplot at 0x7efd83336a90>"
            ]
          },
          "metadata": {
            "tags": []
          },
          "execution_count": 93
        },
        {
          "output_type": "display_data",
          "data": {
            "image/png": "[encoded data removed]",
            "text/plain": [
              "<Figure size 432x288 with 1 Axes>"
            ]
          },
          "metadata": {
            "tags": []
          }
        }
      ]
    },
    {
      "cell_type": "code",
      "metadata": {
        "id": "5kBtPcB2il6n",
        "colab_type": "code",
        "colab": {}
      },
      "source": [
        "#build up datdaset for modeling\n",
        "\n",
        "#onehot and get_dummies\n",
        "categorial_data = pd.DataFrame()\n",
        "for i in full_data.columns:\n",
        "    if full_data[i].dtype == 'O':\n",
        "        cata = pd.DataFrame()\n",
        "        cata = pd.get_dummies(full_data[i],prefix=i)\n",
        "        cata_result = pd.concat([categorial_data,cata],axis=1)"
      ],
      "execution_count": 0,
      "outputs": []
    },
    {
      "cell_type": "code",
      "metadata": {
        "id": "R7zrHnf4kgxR",
        "colab_type": "code",
        "colab": {}
      },
      "source": [
        "#remove object data type and use onehot \n",
        "for i in full_data.columns:\n",
        "  if full_data[i].dtype == 'O':\n",
        "    full_data = full_data.drop(i,axis = 1)\n",
        "#append the onehot tgt with continuous data\n",
        "full_data = pd.concat([full_data,categorial_data],axis = 1)"
      ],
      "execution_count": 0,
      "outputs": []
    },
    {
      "cell_type": "code",
      "metadata": {
        "id": "SNbpg-rzmQhs",
        "colab_type": "code",
        "colab": {}
      },
      "source": [
        "from sklearn.model_selection import train_test_split,cross_val_score\n",
        "from sklearn import preprocessing\n",
        "from sklearn.metrics import accuracy_score\n",
        "from sklearn.tree import DecisionTreeClassifier\n",
        "from sklearn.linear_model import LogisticRegression\n",
        "from sklearn.ensemble import RandomForestClassifier\n",
        "from sklearn import svm\n"
      ],
      "execution_count": 0,
      "outputs": []
    },
    {
      "cell_type": "code",
      "metadata": {
        "id": "kg1grDGQr1ZF",
        "colab_type": "code",
        "colab": {}
      },
      "source": [
        "#resplit the dataset\n",
        "training_data =full_data[full_data['user_id'].isin(train['user_id'])]"
      ],
      "execution_count": 0,
      "outputs": []
    },
    {
      "cell_type": "code",
      "metadata": {
        "id": "tsim2WrXs26Q",
        "colab_type": "code",
        "colab": {}
      },
      "source": [
        "test_data = full_data[full_data['user_id'].isin(test['user_id'])]"
      ],
      "execution_count": 0,
      "outputs": []
    },
    {
      "cell_type": "code",
      "metadata": {
        "id": "TB2osf6MtKfb",
        "colab_type": "code",
        "colab": {}
      },
      "source": [
        "X = training_data.drop(columns = ['user_id','Attrition_1'],axis = 1)\n",
        "Y = training_data['Attrition_1']"
      ],
      "execution_count": 0,
      "outputs": []
    },
    {
      "cell_type": "code",
      "metadata": {
        "id": "pQbyfLIrtUvA",
        "colab_type": "code",
        "colab": {}
      },
      "source": [
        "train_x, test_x, train_y, test_y = train_test_split(X, Y, test_size=0.25, random_state=33)\n"
      ],
      "execution_count": 0,
      "outputs": []
    },
    {
      "cell_type": "code",
      "metadata": {
        "id": "JTn5YdtptmWK",
        "colab_type": "code",
        "colab": {}
      },
      "source": [
        "#Logistic Regression \n",
        "#normalization\n",
        "ss = preprocessing.StandardScaler()\n",
        "train_ss_x = ss.fit_transform(train_x)\n",
        "test_ss_x = ss.transform(test_x)"
      ],
      "execution_count": 0,
      "outputs": []
    },
    {
      "cell_type": "code",
      "metadata": {
        "id": "7_r8mNtRt4o0",
        "colab_type": "code",
        "colab": {
          "base_uri": "https://localhost:8080/",
          "height": 34
        },
        "outputId": "15e90ad0-18b1-4fda-8881-6a993c7157ca"
      },
      "source": [
        "lr = LogisticRegression()\n",
        "lr.fit(train_ss_x, train_y)\n",
        "predict_y=lr.predict(test_ss_x)\n",
        "print('LR准确率: %0.4lf' % accuracy_score(predict_y, test_y))"
      ],
      "execution_count": 117,
      "outputs": [
        {
          "output_type": "stream",
          "text": [
            "LR准确率: 0.8639\n"
          ],
          "name": "stdout"
        }
      ]
    },
    {
      "cell_type": "code",
      "metadata": {
        "id": "67q2xJ88uJuv",
        "colab_type": "code",
        "colab": {}
      },
      "source": [
        "#other models \n",
        "models = {}\n",
        "models['DecisionTree'] = DecisionTreeClassifier()  \n",
        "models['SVM'] = svm.SVC()\n",
        "models['RandomForest'] = RandomForestClassifier()\n",
        "\n"
      ],
      "execution_count": 0,
      "outputs": []
    },
    {
      "cell_type": "code",
      "metadata": {
        "id": "qwpkp0uyuugG",
        "colab_type": "code",
        "colab": {
          "base_uri": "https://localhost:8080/",
          "height": 119
        },
        "outputId": "dc1b8a9f-26a8-461b-ff6d-a72782902dcb"
      },
      "source": [
        "for model in models:\n",
        "  models[model].fit(train_x,train_y)\n",
        "  test_predict = models[model].predict(test_x)\n",
        "  print('{}'.format(model) + '准确率:' + ' %0.4lf' % accuracy_score(test_predict, test_y))\n",
        "  score = cross_val_score(models[model],X,Y,cv=5,scoring='accuracy')\n",
        "  print(\"%s:%.3f(%.3f)\"%(model,score.mean(),score.std()))"
      ],
      "execution_count": 123,
      "outputs": [
        {
          "output_type": "stream",
          "text": [
            "DecisionTree准确率: 0.7585\n",
            "DecisionTree:0.761(0.023)\n",
            "SVM准确率: 0.8571\n",
            "SVM:0.840(0.002)\n",
            "RandomForest准确率: 0.8537\n",
            "RandomForest:0.849(0.004)\n"
          ],
          "name": "stdout"
        }
      ]
    },
    {
      "cell_type": "code",
      "metadata": {
        "id": "RpgrVTEtwPez",
        "colab_type": "code",
        "colab": {
          "base_uri": "https://localhost:8080/",
          "height": 309
        },
        "outputId": "62ad0d8b-1fb0-4c5b-f568-e968f4ed57c8"
      },
      "source": [
        "# As a result, we found that the best model here is Logistic Regression\n"
      ],
      "execution_count": 122,
      "outputs": [
        {
          "output_type": "execute_result",
          "data": {
            "text/html": [
              "<div>\n",
              "<style scoped>\n",
              "    .dataframe tbody tr th:only-of-type {\n",
              "        vertical-align: middle;\n",
              "    }\n",
              "\n",
              "    .dataframe tbody tr th {\n",
              "        vertical-align: top;\n",
              "    }\n",
              "\n",
              "    .dataframe thead th {\n",
              "        text-align: right;\n",
              "    }\n",
              "</style>\n",
              "<table border=\"1\" class=\"dataframe\">\n",
              "  <thead>\n",
              "    <tr style=\"text-align: right;\">\n",
              "      <th></th>\n",
              "      <th>user_id</th>\n",
              "      <th>Age</th>\n",
              "      <th>BusinessTravel</th>\n",
              "      <th>DailyRate</th>\n",
              "      <th>Department</th>\n",
              "      <th>DistanceFromHome</th>\n",
              "      <th>Education</th>\n",
              "      <th>EducationField</th>\n",
              "      <th>EmployeeCount</th>\n",
              "      <th>EmployeeNumber</th>\n",
              "      <th>EnvironmentSatisfaction</th>\n",
              "      <th>Gender</th>\n",
              "      <th>HourlyRate</th>\n",
              "      <th>JobInvolvement</th>\n",
              "      <th>JobLevel</th>\n",
              "      <th>JobRole</th>\n",
              "      <th>JobSatisfaction</th>\n",
              "      <th>MaritalStatus</th>\n",
              "      <th>MonthlyIncome</th>\n",
              "      <th>MonthlyRate</th>\n",
              "      <th>NumCompaniesWorked</th>\n",
              "      <th>Over18</th>\n",
              "      <th>OverTime</th>\n",
              "      <th>PercentSalaryHike</th>\n",
              "      <th>PerformanceRating</th>\n",
              "      <th>RelationshipSatisfaction</th>\n",
              "      <th>StandardHours</th>\n",
              "      <th>StockOptionLevel</th>\n",
              "      <th>TotalWorkingYears</th>\n",
              "      <th>TrainingTimesLastYear</th>\n",
              "      <th>WorkLifeBalance</th>\n",
              "      <th>YearsAtCompany</th>\n",
              "      <th>YearsInCurrentRole</th>\n",
              "      <th>YearsSinceLastPromotion</th>\n",
              "      <th>YearsWithCurrManager</th>\n",
              "    </tr>\n",
              "  </thead>\n",
              "  <tbody>\n",
              "    <tr>\n",
              "      <th>0</th>\n",
              "      <td>442</td>\n",
              "      <td>36</td>\n",
              "      <td>Non-Travel</td>\n",
              "      <td>635</td>\n",
              "      <td>Sales</td>\n",
              "      <td>10</td>\n",
              "      <td>4</td>\n",
              "      <td>Medical</td>\n",
              "      <td>1</td>\n",
              "      <td>592</td>\n",
              "      <td>2</td>\n",
              "      <td>Male</td>\n",
              "      <td>32</td>\n",
              "      <td>3</td>\n",
              "      <td>3</td>\n",
              "      <td>Sales Executive</td>\n",
              "      <td>4</td>\n",
              "      <td>Single</td>\n",
              "      <td>9980</td>\n",
              "      <td>15318</td>\n",
              "      <td>1</td>\n",
              "      <td>Y</td>\n",
              "      <td>No</td>\n",
              "      <td>14</td>\n",
              "      <td>3</td>\n",
              "      <td>4</td>\n",
              "      <td>80</td>\n",
              "      <td>0</td>\n",
              "      <td>10</td>\n",
              "      <td>3</td>\n",
              "      <td>2</td>\n",
              "      <td>10</td>\n",
              "      <td>3</td>\n",
              "      <td>9</td>\n",
              "      <td>7</td>\n",
              "    </tr>\n",
              "    <tr>\n",
              "      <th>1</th>\n",
              "      <td>1091</td>\n",
              "      <td>33</td>\n",
              "      <td>Travel_Rarely</td>\n",
              "      <td>575</td>\n",
              "      <td>Research &amp; Development</td>\n",
              "      <td>25</td>\n",
              "      <td>3</td>\n",
              "      <td>Life Sciences</td>\n",
              "      <td>1</td>\n",
              "      <td>1545</td>\n",
              "      <td>4</td>\n",
              "      <td>Male</td>\n",
              "      <td>44</td>\n",
              "      <td>2</td>\n",
              "      <td>2</td>\n",
              "      <td>Manufacturing Director</td>\n",
              "      <td>2</td>\n",
              "      <td>Single</td>\n",
              "      <td>4320</td>\n",
              "      <td>24152</td>\n",
              "      <td>1</td>\n",
              "      <td>Y</td>\n",
              "      <td>No</td>\n",
              "      <td>13</td>\n",
              "      <td>3</td>\n",
              "      <td>4</td>\n",
              "      <td>80</td>\n",
              "      <td>0</td>\n",
              "      <td>5</td>\n",
              "      <td>2</td>\n",
              "      <td>3</td>\n",
              "      <td>5</td>\n",
              "      <td>3</td>\n",
              "      <td>0</td>\n",
              "      <td>2</td>\n",
              "    </tr>\n",
              "    <tr>\n",
              "      <th>2</th>\n",
              "      <td>981</td>\n",
              "      <td>35</td>\n",
              "      <td>Travel_Frequently</td>\n",
              "      <td>662</td>\n",
              "      <td>Sales</td>\n",
              "      <td>18</td>\n",
              "      <td>4</td>\n",
              "      <td>Marketing</td>\n",
              "      <td>1</td>\n",
              "      <td>1380</td>\n",
              "      <td>4</td>\n",
              "      <td>Female</td>\n",
              "      <td>67</td>\n",
              "      <td>3</td>\n",
              "      <td>2</td>\n",
              "      <td>Sales Executive</td>\n",
              "      <td>3</td>\n",
              "      <td>Married</td>\n",
              "      <td>4614</td>\n",
              "      <td>23288</td>\n",
              "      <td>0</td>\n",
              "      <td>Y</td>\n",
              "      <td>Yes</td>\n",
              "      <td>18</td>\n",
              "      <td>3</td>\n",
              "      <td>3</td>\n",
              "      <td>80</td>\n",
              "      <td>1</td>\n",
              "      <td>5</td>\n",
              "      <td>0</td>\n",
              "      <td>2</td>\n",
              "      <td>4</td>\n",
              "      <td>2</td>\n",
              "      <td>3</td>\n",
              "      <td>2</td>\n",
              "    </tr>\n",
              "    <tr>\n",
              "      <th>3</th>\n",
              "      <td>785</td>\n",
              "      <td>40</td>\n",
              "      <td>Travel_Rarely</td>\n",
              "      <td>1492</td>\n",
              "      <td>Research &amp; Development</td>\n",
              "      <td>20</td>\n",
              "      <td>4</td>\n",
              "      <td>Technical Degree</td>\n",
              "      <td>1</td>\n",
              "      <td>1092</td>\n",
              "      <td>1</td>\n",
              "      <td>Male</td>\n",
              "      <td>61</td>\n",
              "      <td>3</td>\n",
              "      <td>3</td>\n",
              "      <td>Healthcare Representative</td>\n",
              "      <td>4</td>\n",
              "      <td>Married</td>\n",
              "      <td>10322</td>\n",
              "      <td>26542</td>\n",
              "      <td>4</td>\n",
              "      <td>Y</td>\n",
              "      <td>No</td>\n",
              "      <td>20</td>\n",
              "      <td>4</td>\n",
              "      <td>4</td>\n",
              "      <td>80</td>\n",
              "      <td>1</td>\n",
              "      <td>14</td>\n",
              "      <td>6</td>\n",
              "      <td>3</td>\n",
              "      <td>11</td>\n",
              "      <td>10</td>\n",
              "      <td>11</td>\n",
              "      <td>1</td>\n",
              "    </tr>\n",
              "    <tr>\n",
              "      <th>4</th>\n",
              "      <td>1332</td>\n",
              "      <td>29</td>\n",
              "      <td>Travel_Frequently</td>\n",
              "      <td>459</td>\n",
              "      <td>Research &amp; Development</td>\n",
              "      <td>24</td>\n",
              "      <td>2</td>\n",
              "      <td>Life Sciences</td>\n",
              "      <td>1</td>\n",
              "      <td>1868</td>\n",
              "      <td>4</td>\n",
              "      <td>Male</td>\n",
              "      <td>73</td>\n",
              "      <td>2</td>\n",
              "      <td>1</td>\n",
              "      <td>Research Scientist</td>\n",
              "      <td>4</td>\n",
              "      <td>Single</td>\n",
              "      <td>2439</td>\n",
              "      <td>14753</td>\n",
              "      <td>1</td>\n",
              "      <td>Y</td>\n",
              "      <td>Yes</td>\n",
              "      <td>24</td>\n",
              "      <td>4</td>\n",
              "      <td>2</td>\n",
              "      <td>80</td>\n",
              "      <td>0</td>\n",
              "      <td>1</td>\n",
              "      <td>3</td>\n",
              "      <td>2</td>\n",
              "      <td>1</td>\n",
              "      <td>0</td>\n",
              "      <td>1</td>\n",
              "      <td>0</td>\n",
              "    </tr>\n",
              "  </tbody>\n",
              "</table>\n",
              "</div>"
            ],
            "text/plain": [
              "   user_id  Age  ... YearsSinceLastPromotion  YearsWithCurrManager\n",
              "0      442   36  ...                       9                     7\n",
              "1     1091   33  ...                       0                     2\n",
              "2      981   35  ...                       3                     2\n",
              "3      785   40  ...                      11                     1\n",
              "4     1332   29  ...                       1                     0\n",
              "\n",
              "[5 rows x 35 columns]"
            ]
          },
          "metadata": {
            "tags": []
          },
          "execution_count": 122
        }
      ]
    },
    {
      "cell_type": "code",
      "metadata": {
        "id": "ROakgYFuw9w7",
        "colab_type": "code",
        "colab": {
          "base_uri": "https://localhost:8080/",
          "height": 34
        },
        "outputId": "0704b3f5-5d54-4c03-b753-0510fd8a7782"
      },
      "source": [
        "test_data = test_data.set_index('user_id')\n",
        "print(test_data.shape)"
      ],
      "execution_count": 133,
      "outputs": [
        {
          "output_type": "stream",
          "text": [
            "(294, 24)\n"
          ],
          "name": "stdout"
        }
      ]
    },
    {
      "cell_type": "code",
      "metadata": {
        "id": "ODuG4OS5yHMs",
        "colab_type": "code",
        "colab": {}
      },
      "source": [
        "#remove the label that was assigned before for data cleaning\n",
        "test_data = test_data.drop('Attrition_1',axis = 1)"
      ],
      "execution_count": 0,
      "outputs": []
    },
    {
      "cell_type": "code",
      "metadata": {
        "id": "80CD9f08yU_b",
        "colab_type": "code",
        "colab": {
          "base_uri": "https://localhost:8080/",
          "height": 34
        },
        "outputId": "76dd0c81-f1d9-483b-ccb6-af1dca0f1941"
      },
      "source": [
        "test_data.shape"
      ],
      "execution_count": 136,
      "outputs": [
        {
          "output_type": "execute_result",
          "data": {
            "text/plain": [
              "(294, 23)"
            ]
          },
          "metadata": {
            "tags": []
          },
          "execution_count": 136
        }
      ]
    },
    {
      "cell_type": "code",
      "metadata": {
        "id": "rsibyQhNx3_q",
        "colab_type": "code",
        "colab": {}
      },
      "source": [
        "result = lr.predict(test_data)"
      ],
      "execution_count": 0,
      "outputs": []
    },
    {
      "cell_type": "code",
      "metadata": {
        "id": "_AXToU8DymG5",
        "colab_type": "code",
        "colab": {}
      },
      "source": [
        "result2 = lr.predict_proba(test_data)"
      ],
      "execution_count": 0,
      "outputs": []
    },
    {
      "cell_type": "code",
      "metadata": {
        "id": "yTjOEC-j5GYE",
        "colab_type": "code",
        "colab": {
          "base_uri": "https://localhost:8080/",
          "height": 255
        },
        "outputId": "37ce26ff-cf31-4a1d-eb48-660b6d27d069"
      },
      "source": [
        "test_data.head()"
      ],
      "execution_count": 155,
      "outputs": [
        {
          "output_type": "execute_result",
          "data": {
            "text/html": [
              "<div>\n",
              "<style scoped>\n",
              "    .dataframe tbody tr th:only-of-type {\n",
              "        vertical-align: middle;\n",
              "    }\n",
              "\n",
              "    .dataframe tbody tr th {\n",
              "        vertical-align: top;\n",
              "    }\n",
              "\n",
              "    .dataframe thead th {\n",
              "        text-align: right;\n",
              "    }\n",
              "</style>\n",
              "<table border=\"1\" class=\"dataframe\">\n",
              "  <thead>\n",
              "    <tr style=\"text-align: right;\">\n",
              "      <th></th>\n",
              "      <th>Age</th>\n",
              "      <th>DailyRate</th>\n",
              "      <th>DistanceFromHome</th>\n",
              "      <th>Education</th>\n",
              "      <th>EnvironmentSatisfaction</th>\n",
              "      <th>HourlyRate</th>\n",
              "      <th>JobInvolvement</th>\n",
              "      <th>JobLevel</th>\n",
              "      <th>JobSatisfaction</th>\n",
              "      <th>MonthlyIncome</th>\n",
              "      <th>MonthlyRate</th>\n",
              "      <th>NumCompaniesWorked</th>\n",
              "      <th>PercentSalaryHike</th>\n",
              "      <th>PerformanceRating</th>\n",
              "      <th>RelationshipSatisfaction</th>\n",
              "      <th>StockOptionLevel</th>\n",
              "      <th>TotalWorkingYears</th>\n",
              "      <th>TrainingTimesLastYear</th>\n",
              "      <th>WorkLifeBalance</th>\n",
              "      <th>YearsAtCompany</th>\n",
              "      <th>YearsInCurrentRole</th>\n",
              "      <th>YearsSinceLastPromotion</th>\n",
              "      <th>YearsWithCurrManager</th>\n",
              "      <th>result</th>\n",
              "    </tr>\n",
              "    <tr>\n",
              "      <th>user_id</th>\n",
              "      <th></th>\n",
              "      <th></th>\n",
              "      <th></th>\n",
              "      <th></th>\n",
              "      <th></th>\n",
              "      <th></th>\n",
              "      <th></th>\n",
              "      <th></th>\n",
              "      <th></th>\n",
              "      <th></th>\n",
              "      <th></th>\n",
              "      <th></th>\n",
              "      <th></th>\n",
              "      <th></th>\n",
              "      <th></th>\n",
              "      <th></th>\n",
              "      <th></th>\n",
              "      <th></th>\n",
              "      <th></th>\n",
              "      <th></th>\n",
              "      <th></th>\n",
              "      <th></th>\n",
              "      <th></th>\n",
              "      <th></th>\n",
              "    </tr>\n",
              "  </thead>\n",
              "  <tbody>\n",
              "    <tr>\n",
              "      <th>442</th>\n",
              "      <td>36</td>\n",
              "      <td>635</td>\n",
              "      <td>10</td>\n",
              "      <td>4</td>\n",
              "      <td>2</td>\n",
              "      <td>32</td>\n",
              "      <td>3</td>\n",
              "      <td>3</td>\n",
              "      <td>4</td>\n",
              "      <td>9980</td>\n",
              "      <td>15318</td>\n",
              "      <td>1</td>\n",
              "      <td>14</td>\n",
              "      <td>3</td>\n",
              "      <td>4</td>\n",
              "      <td>0</td>\n",
              "      <td>10</td>\n",
              "      <td>3</td>\n",
              "      <td>2</td>\n",
              "      <td>10</td>\n",
              "      <td>3</td>\n",
              "      <td>9</td>\n",
              "      <td>7</td>\n",
              "      <td>4.486161e-95</td>\n",
              "    </tr>\n",
              "    <tr>\n",
              "      <th>1091</th>\n",
              "      <td>33</td>\n",
              "      <td>575</td>\n",
              "      <td>25</td>\n",
              "      <td>3</td>\n",
              "      <td>4</td>\n",
              "      <td>44</td>\n",
              "      <td>2</td>\n",
              "      <td>2</td>\n",
              "      <td>2</td>\n",
              "      <td>4320</td>\n",
              "      <td>24152</td>\n",
              "      <td>1</td>\n",
              "      <td>13</td>\n",
              "      <td>3</td>\n",
              "      <td>4</td>\n",
              "      <td>0</td>\n",
              "      <td>5</td>\n",
              "      <td>2</td>\n",
              "      <td>3</td>\n",
              "      <td>5</td>\n",
              "      <td>3</td>\n",
              "      <td>0</td>\n",
              "      <td>2</td>\n",
              "      <td>1.000000e+00</td>\n",
              "    </tr>\n",
              "    <tr>\n",
              "      <th>981</th>\n",
              "      <td>35</td>\n",
              "      <td>662</td>\n",
              "      <td>18</td>\n",
              "      <td>4</td>\n",
              "      <td>4</td>\n",
              "      <td>67</td>\n",
              "      <td>3</td>\n",
              "      <td>2</td>\n",
              "      <td>3</td>\n",
              "      <td>4614</td>\n",
              "      <td>23288</td>\n",
              "      <td>0</td>\n",
              "      <td>18</td>\n",
              "      <td>3</td>\n",
              "      <td>3</td>\n",
              "      <td>1</td>\n",
              "      <td>5</td>\n",
              "      <td>0</td>\n",
              "      <td>2</td>\n",
              "      <td>4</td>\n",
              "      <td>2</td>\n",
              "      <td>3</td>\n",
              "      <td>2</td>\n",
              "      <td>1.000000e+00</td>\n",
              "    </tr>\n",
              "    <tr>\n",
              "      <th>785</th>\n",
              "      <td>40</td>\n",
              "      <td>1492</td>\n",
              "      <td>20</td>\n",
              "      <td>4</td>\n",
              "      <td>1</td>\n",
              "      <td>61</td>\n",
              "      <td>3</td>\n",
              "      <td>3</td>\n",
              "      <td>4</td>\n",
              "      <td>10322</td>\n",
              "      <td>26542</td>\n",
              "      <td>4</td>\n",
              "      <td>20</td>\n",
              "      <td>4</td>\n",
              "      <td>4</td>\n",
              "      <td>1</td>\n",
              "      <td>14</td>\n",
              "      <td>6</td>\n",
              "      <td>3</td>\n",
              "      <td>11</td>\n",
              "      <td>10</td>\n",
              "      <td>11</td>\n",
              "      <td>1</td>\n",
              "      <td>1.000000e+00</td>\n",
              "    </tr>\n",
              "    <tr>\n",
              "      <th>1332</th>\n",
              "      <td>29</td>\n",
              "      <td>459</td>\n",
              "      <td>24</td>\n",
              "      <td>2</td>\n",
              "      <td>4</td>\n",
              "      <td>73</td>\n",
              "      <td>2</td>\n",
              "      <td>1</td>\n",
              "      <td>4</td>\n",
              "      <td>2439</td>\n",
              "      <td>14753</td>\n",
              "      <td>1</td>\n",
              "      <td>24</td>\n",
              "      <td>4</td>\n",
              "      <td>2</td>\n",
              "      <td>0</td>\n",
              "      <td>1</td>\n",
              "      <td>3</td>\n",
              "      <td>2</td>\n",
              "      <td>1</td>\n",
              "      <td>0</td>\n",
              "      <td>1</td>\n",
              "      <td>0</td>\n",
              "      <td>1.000000e+00</td>\n",
              "    </tr>\n",
              "  </tbody>\n",
              "</table>\n",
              "</div>"
            ],
            "text/plain": [
              "         Age  DailyRate  ...  YearsWithCurrManager        result\n",
              "user_id                  ...                                    \n",
              "442       36        635  ...                     7  4.486161e-95\n",
              "1091      33        575  ...                     2  1.000000e+00\n",
              "981       35        662  ...                     2  1.000000e+00\n",
              "785       40       1492  ...                     1  1.000000e+00\n",
              "1332      29        459  ...                     0  1.000000e+00\n",
              "\n",
              "[5 rows x 24 columns]"
            ]
          },
          "metadata": {
            "tags": []
          },
          "execution_count": 155
        }
      ]
    },
    {
      "cell_type": "code",
      "metadata": {
        "id": "7bkGQHOb5wPw",
        "colab_type": "code",
        "colab": {}
      },
      "source": [
        "#test_data['result'] = result2\n",
        "test_data.reset_index(inplace = True)"
      ],
      "execution_count": 0,
      "outputs": []
    },
    {
      "cell_type": "code",
      "metadata": {
        "id": "eoBLcANP6EAG",
        "colab_type": "code",
        "colab": {}
      },
      "source": [
        "submission = pd.DataFrame(test_data[['user_id','result']])"
      ],
      "execution_count": 0,
      "outputs": []
    },
    {
      "cell_type": "code",
      "metadata": {
        "id": "ltd386ZP6OLU",
        "colab_type": "code",
        "colab": {}
      },
      "source": [
        "submission.to_csv('submission_test1')"
      ],
      "execution_count": 0,
      "outputs": []
    },
    {
      "cell_type": "code",
      "metadata": {
        "id": "90MelS1H6WD7",
        "colab_type": "code",
        "colab": {
          "base_uri": "https://localhost:8080/",
          "height": 34
        },
        "outputId": "f47bf6bd-fe4f-4665-f46b-e9cf8dc0f46a"
      },
      "source": [
        "import os \n",
        "os.getcwd()"
      ],
      "execution_count": 163,
      "outputs": [
        {
          "output_type": "execute_result",
          "data": {
            "text/plain": [
              "'/content'"
            ]
          },
          "metadata": {
            "tags": []
          },
          "execution_count": 163
        }
      ]
    },
    {
      "cell_type": "code",
      "metadata": {
        "id": "9L-wNXdo3Fyh",
        "colab_type": "code",
        "colab": {
          "base_uri": "https://localhost:8080/",
          "height": 295
        },
        "outputId": "d6e9205e-ecdd-43a2-ccd8-56e82269edf8"
      },
      "source": [
        "from sklearn.metrics import roc_auc_score\n",
        "from sklearn.metrics import roc_curve\n",
        "logit_roc_auc = roc_auc_score(test_y, predict_y)\n",
        "fpr, tpr, thresholds = roc_curve(test_y, lr.predict_proba(test_x)[:,1])\n",
        "plt.figure()\n",
        "plt.plot(fpr, tpr, label='Logistic Regression (area = %0.2f)' % logit_roc_auc)\n",
        "plt.plot([0, 1], [0, 1],'r--')\n",
        "plt.xlim([0.0, 1.0])\n",
        "plt.ylim([0.0, 1.05])\n",
        "plt.xlabel('False Positive Rate')\n",
        "plt.ylabel('True Positive Rate')\n",
        "plt.title('Receiver operating characteristic')\n",
        "plt.legend(loc=\"lower right\")\n",
        "plt.savefig('Log_ROC')\n",
        "plt.show()"
      ],
      "execution_count": 149,
      "outputs": [
        {
          "output_type": "display_data",
          "data": {
            "image/png": "[encoded data removed]",
            "text/plain": [
              "<Figure size 432x288 with 1 Axes>"
            ]
          },
          "metadata": {
            "tags": []
          }
        }
      ]
    },
    {
      "cell_type": "code",
      "metadata": {
        "id": "XFM4u7k72xBc",
        "colab_type": "code",
        "colab": {}
      },
      "source": [
        ""
      ],
      "execution_count": 0,
      "outputs": []
    }
  ]
}