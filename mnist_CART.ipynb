{
  "nbformat": 4,
  "nbformat_minor": 0,
  "metadata": {
    "colab": {
      "name": "mnist_CART.ipynb",
      "provenance": [],
      "authorship_tag": "ABX9TyOtH288BYvcTaWeVc3OmGDu",
      "include_colab_link": true
    },
    "kernelspec": {
      "name": "python3",
      "display_name": "Python 3"
    }
  },
  "cells": [
    {
      "cell_type": "markdown",
      "metadata": {
        "id": "view-in-github",
        "colab_type": "text"
      },
      "source": [
        "<a href=\"https://colab.research.google.com/github/tingtingting118/RSclass/blob/master/mnist_CART.ipynb\" target=\"_parent\"><img src=\"https://colab.research.google.com/assets/colab-badge.svg\" alt=\"Open In Colab\"/></a>"
      ]
    },
    {
      "cell_type": "code",
      "metadata": {
        "id": "GXTfp64Zy3BB",
        "colab_type": "code",
        "colab": {}
      },
      "source": [
        "from sklearn.model_selection import train_test_split\n",
        "from sklearn import preprocessing\n",
        "from sklearn.metrics import accuracy_score\n",
        "from sklearn.datasets import load_digits\n",
        "from sklearn.tree import DecisionTreeClassifier\n",
        "#https://scikit-learn.org/stable/modules/tree.html\n",
        "import matplotlib.pyplot as plt"
      ],
      "execution_count": 0,
      "outputs": []
    },
    {
      "cell_type": "code",
      "metadata": {
        "id": "hAtKJZjJ4Vs1",
        "colab_type": "code",
        "colab": {
          "base_uri": "https://localhost:8080/",
          "height": 451
        },
        "outputId": "debd4d4b-f403-4449-a728-c5cc5de9fb8f"
      },
      "source": [
        "# load the data\n",
        "digits = load_digits()\n",
        "data = digits.data\n",
        "\n",
        "print(data.shape)\n",
        "# check the first image\n",
        "print(digits.images[0])\n",
        "\n",
        "print(digits.target[0])\n",
        "# print the first one \n",
        "plt.gray()\n",
        "plt.title('Handwritten Digits First chart')\n",
        "plt.imshow(digits.images[0])\n",
        "plt.show()"
      ],
      "execution_count": 2,
      "outputs": [
        {
          "output_type": "stream",
          "text": [
            "(1797, 64)\n",
            "[[ 0.  0.  5. 13.  9.  1.  0.  0.]\n",
            " [ 0.  0. 13. 15. 10. 15.  5.  0.]\n",
            " [ 0.  3. 15.  2.  0. 11.  8.  0.]\n",
            " [ 0.  4. 12.  0.  0.  8.  8.  0.]\n",
            " [ 0.  5.  8.  0.  0.  9.  8.  0.]\n",
            " [ 0.  4. 11.  0.  1. 12.  7.  0.]\n",
            " [ 0.  2. 14.  5. 10. 12.  0.  0.]\n",
            " [ 0.  0.  6. 13. 10.  0.  0.  0.]]\n",
            "0\n"
          ],
          "name": "stdout"
        },
        {
          "output_type": "display_data",
          "data": {
            "image/png": "[encoded data removed]",
            "text/plain": [
              "<Figure size 432x288 with 1 Axes>"
            ]
          },
          "metadata": {
            "tags": []
          }
        }
      ]
    },
    {
      "cell_type": "code",
      "metadata": {
        "id": "M4frThw94e33",
        "colab_type": "code",
        "colab": {}
      },
      "source": [
        "#start to train your model \n",
        "train_x, test_x, train_y, test_y = train_test_split(data, digits.target, test_size=0.25, random_state=33)\n",
        "#train_test_split(x,y,test_size, random_state)"
      ],
      "execution_count": 0,
      "outputs": []
    },
    {
      "cell_type": "code",
      "metadata": {
        "id": "MQatCnqA4oK9",
        "colab_type": "code",
        "colab": {}
      },
      "source": [
        "clf = DecisionTreeClassifier()  \n",
        "clf = clf.fit(train_x,train_y)\n"
      ],
      "execution_count": 0,
      "outputs": []
    },
    {
      "cell_type": "code",
      "metadata": {
        "id": "i8CV420Z5l4D",
        "colab_type": "code",
        "colab": {}
      },
      "source": [
        "test_predict = clf.predict(test_x)"
      ],
      "execution_count": 0,
      "outputs": []
    },
    {
      "cell_type": "code",
      "metadata": {
        "id": "gdKuNZ255yy7",
        "colab_type": "code",
        "colab": {
          "base_uri": "https://localhost:8080/",
          "height": 34
        },
        "outputId": "7deb085f-f9ed-46e5-e7d1-a2b17b4be936"
      },
      "source": [
        "print('CART准确率: %0.4lf' % accuracy_score(test_predict, test_y))\n"
      ],
      "execution_count": 15,
      "outputs": [
        {
          "output_type": "stream",
          "text": [
            "CART准确率: 0.8511\n"
          ],
          "name": "stdout"
        }
      ]
    },
    {
      "cell_type": "code",
      "metadata": {
        "id": "8XMUAFqb57AU",
        "colab_type": "code",
        "colab": {}
      },
      "source": [
        "#Q: What if we normalize the data set before we build the model ?\n",
        "# Z=score normalization \n",
        "ss = preprocessing.StandardScaler()\n",
        "train_ss_x = ss.fit_transform(train_x)\n",
        "test_ss_x = ss.transform(test_x)"
      ],
      "execution_count": 0,
      "outputs": []
    },
    {
      "cell_type": "code",
      "metadata": {
        "id": "HoqWL8U46KIl",
        "colab_type": "code",
        "colab": {
          "base_uri": "https://localhost:8080/",
          "height": 34
        },
        "outputId": "1474e417-0cf7-44e8-f428-ac952109a7c5"
      },
      "source": [
        "clf_nor = DecisionTreeClassifier()  \n",
        "clf_nor = clf_nor.fit(train_ss_x,train_y)\n",
        "test_predict_nor = clf_nor.predict(test_ss_x)\n",
        "print('CART_NORMAL准确率: %0.4lf' % accuracy_score(test_predict_nor, test_y))\n"
      ],
      "execution_count": 17,
      "outputs": [
        {
          "output_type": "stream",
          "text": [
            "CART_NORMAL准确率: 0.8467\n"
          ],
          "name": "stdout"
        }
      ]
    }
  ]
}